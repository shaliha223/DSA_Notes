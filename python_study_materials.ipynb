{
  "nbformat": 4,
  "nbformat_minor": 0,
  "metadata": {
    "colab": {
      "provenance": [],
      "authorship_tag": "ABX9TyMk3F9okpl2LbeDQYqIx03v",
      "include_colab_link": true
    },
    "kernelspec": {
      "name": "python3",
      "display_name": "Python 3"
    },
    "language_info": {
      "name": "python"
    }
  },
  "cells": [
    {
      "cell_type": "markdown",
      "metadata": {
        "id": "view-in-github",
        "colab_type": "text"
      },
      "source": [
        "<a href=\"https://colab.research.google.com/github/shaliha223/DSA_Notes/blob/main/python_study_materials.ipynb\" target=\"_parent\"><img src=\"https://colab.research.google.com/assets/colab-badge.svg\" alt=\"Open In Colab\"/></a>"
      ]
    },
    {
      "cell_type": "markdown",
      "source": [
        "basics(assigning values types etc)"
      ],
      "metadata": {
        "id": "KZsKLwQAFuRl"
      }
    },
    {
      "cell_type": "code",
      "execution_count": null,
      "metadata": {
        "id": "aKKeMlSCKy4A"
      },
      "outputs": [],
      "source": [
        "age = 24"
      ]
    },
    {
      "cell_type": "code",
      "source": [
        "print(age)"
      ],
      "metadata": {
        "colab": {
          "base_uri": "https://localhost:8080/"
        },
        "id": "up3IMPZQLj1F",
        "outputId": "c413e688-ab31-4c62-d0a6-cb763fbd84cf"
      },
      "execution_count": null,
      "outputs": [
        {
          "output_type": "stream",
          "name": "stdout",
          "text": [
            "24\n"
          ]
        }
      ]
    },
    {
      "cell_type": "code",
      "source": [
        "print(100)"
      ],
      "metadata": {
        "colab": {
          "base_uri": "https://localhost:8080/"
        },
        "id": "Cgd3X71BLO9n",
        "outputId": "67c7ae98-d649-4f43-b0b8-0ba9bd3f28d5"
      },
      "execution_count": null,
      "outputs": [
        {
          "output_type": "stream",
          "name": "stdout",
          "text": [
            "100\n"
          ]
        }
      ]
    },
    {
      "cell_type": "code",
      "source": [
        "type(age)"
      ],
      "metadata": {
        "colab": {
          "base_uri": "https://localhost:8080/"
        },
        "id": "qZyDOM8_L4j1",
        "outputId": "ebcbd8a6-af91-4d78-9999-ab65f2a82bf3"
      },
      "execution_count": null,
      "outputs": [
        {
          "output_type": "execute_result",
          "data": {
            "text/plain": [
              "int"
            ]
          },
          "metadata": {},
          "execution_count": 6
        }
      ]
    },
    {
      "cell_type": "code",
      "source": [
        "age = 24.5"
      ],
      "metadata": {
        "id": "pxCB2dt-MBh8"
      },
      "execution_count": null,
      "outputs": []
    },
    {
      "cell_type": "code",
      "source": [
        "type(age)"
      ],
      "metadata": {
        "colab": {
          "base_uri": "https://localhost:8080/"
        },
        "id": "aQZvKKmjMFCE",
        "outputId": "157f526e-69dd-4ef7-ac43-9ec98f9adb4f"
      },
      "execution_count": null,
      "outputs": [
        {
          "output_type": "execute_result",
          "data": {
            "text/plain": [
              "float"
            ]
          },
          "metadata": {},
          "execution_count": 8
        }
      ]
    },
    {
      "cell_type": "code",
      "source": [
        "age = 20.0"
      ],
      "metadata": {
        "id": "MN_uJyCtMuau"
      },
      "execution_count": null,
      "outputs": []
    },
    {
      "cell_type": "code",
      "source": [
        "type(age)"
      ],
      "metadata": {
        "colab": {
          "base_uri": "https://localhost:8080/"
        },
        "id": "lbc08enAOGY2",
        "outputId": "554ba748-9d16-4f5d-ef2e-7fb52409d2b6"
      },
      "execution_count": null,
      "outputs": [
        {
          "output_type": "execute_result",
          "data": {
            "text/plain": [
              "float"
            ]
          },
          "metadata": {},
          "execution_count": 10
        }
      ]
    },
    {
      "cell_type": "code",
      "source": [
        "age = 20."
      ],
      "metadata": {
        "id": "HeQXNkaZOKSX"
      },
      "execution_count": null,
      "outputs": []
    },
    {
      "cell_type": "code",
      "source": [
        "type(age)"
      ],
      "metadata": {
        "colab": {
          "base_uri": "https://localhost:8080/"
        },
        "id": "PcC6l7AFOMw0",
        "outputId": "b3bd15b9-8bad-4596-e704-978dbbf16b65"
      },
      "execution_count": null,
      "outputs": [
        {
          "output_type": "execute_result",
          "data": {
            "text/plain": [
              "float"
            ]
          },
          "metadata": {},
          "execution_count": 11
        }
      ]
    },
    {
      "cell_type": "code",
      "source": [
        "age = 2.5+6j"
      ],
      "metadata": {
        "id": "BtcQZOXpOTLw"
      },
      "execution_count": null,
      "outputs": []
    },
    {
      "cell_type": "code",
      "source": [
        "type(age)"
      ],
      "metadata": {
        "colab": {
          "base_uri": "https://localhost:8080/"
        },
        "id": "_ACI4fU_OU4a",
        "outputId": "948f226b-34e7-456f-aae1-addd160e4cd8"
      },
      "execution_count": null,
      "outputs": [
        {
          "output_type": "execute_result",
          "data": {
            "text/plain": [
              "complex"
            ]
          },
          "metadata": {},
          "execution_count": 16
        }
      ]
    },
    {
      "cell_type": "code",
      "source": [
        "name ='DSA b7'"
      ],
      "metadata": {
        "id": "qqQ8xbo0O872"
      },
      "execution_count": null,
      "outputs": []
    },
    {
      "cell_type": "code",
      "source": [
        "type(name)"
      ],
      "metadata": {
        "colab": {
          "base_uri": "https://localhost:8080/"
        },
        "id": "eDRzdqprPC47",
        "outputId": "521c70c2-7671-49fc-b497-1e76d5f94627"
      },
      "execution_count": null,
      "outputs": [
        {
          "output_type": "execute_result",
          "data": {
            "text/plain": [
              "str"
            ]
          },
          "metadata": {},
          "execution_count": 23
        }
      ]
    },
    {
      "cell_type": "code",
      "source": [
        "year = 2025"
      ],
      "metadata": {
        "id": "FfLMIMrcPHCg"
      },
      "execution_count": null,
      "outputs": []
    },
    {
      "cell_type": "code",
      "source": [
        "type(year)"
      ],
      "metadata": {
        "colab": {
          "base_uri": "https://localhost:8080/"
        },
        "id": "IrEzNMfHPJ6p",
        "outputId": "5311835f-02e7-4c50-dd00-23142ba1c45f"
      },
      "execution_count": null,
      "outputs": [
        {
          "output_type": "execute_result",
          "data": {
            "text/plain": [
              "int"
            ]
          },
          "metadata": {},
          "execution_count": 20
        }
      ]
    },
    {
      "cell_type": "code",
      "source": [
        "days = [9, 5, 5]"
      ],
      "metadata": {
        "id": "NhXr1_CxPnK7"
      },
      "execution_count": null,
      "outputs": []
    },
    {
      "cell_type": "code",
      "source": [
        "type(days)"
      ],
      "metadata": {
        "colab": {
          "base_uri": "https://localhost:8080/"
        },
        "id": "PDXOMm7qPxXD",
        "outputId": "36d3ab79-b9a6-425c-af06-f931c7f5630d"
      },
      "execution_count": null,
      "outputs": [
        {
          "output_type": "execute_result",
          "data": {
            "text/plain": [
              "list"
            ]
          },
          "metadata": {},
          "execution_count": 25
        }
      ]
    },
    {
      "cell_type": "code",
      "source": [
        "marks = [' student 1', 95, 'student 2', 90]"
      ],
      "metadata": {
        "id": "otcX3FARP7Fk"
      },
      "execution_count": null,
      "outputs": []
    },
    {
      "cell_type": "code",
      "source": [
        "type(marks)"
      ],
      "metadata": {
        "colab": {
          "base_uri": "https://localhost:8080/"
        },
        "id": "VFYp-GlwQSvT",
        "outputId": "4eb9b31d-12eb-411e-cb68-96efdd80d0b4"
      },
      "execution_count": null,
      "outputs": [
        {
          "output_type": "execute_result",
          "data": {
            "text/plain": [
              "list"
            ]
          },
          "metadata": {},
          "execution_count": 27
        }
      ]
    },
    {
      "cell_type": "code",
      "source": [
        "marks = (' student 1', 95, 'student 2', 90)"
      ],
      "metadata": {
        "id": "wy09EdshQg1F"
      },
      "execution_count": null,
      "outputs": []
    },
    {
      "cell_type": "code",
      "source": [
        "type(marks)"
      ],
      "metadata": {
        "colab": {
          "base_uri": "https://localhost:8080/"
        },
        "id": "FIV_M9IMQnsG",
        "outputId": "95da1c0c-e497-436e-bf1a-24343bda4e23"
      },
      "execution_count": null,
      "outputs": [
        {
          "output_type": "execute_result",
          "data": {
            "text/plain": [
              "tuple"
            ]
          },
          "metadata": {},
          "execution_count": 30
        }
      ]
    },
    {
      "cell_type": "code",
      "source": [
        "marks[3]"
      ],
      "metadata": {
        "colab": {
          "base_uri": "https://localhost:8080/"
        },
        "id": "oQ9Hr914Q13m",
        "outputId": "bf2e1550-e45d-4b14-d14e-1034ef3607d8"
      },
      "execution_count": null,
      "outputs": [
        {
          "output_type": "execute_result",
          "data": {
            "text/plain": [
              "90"
            ]
          },
          "metadata": {},
          "execution_count": 31
        }
      ]
    },
    {
      "cell_type": "code",
      "source": [
        "list(range(50))"
      ],
      "metadata": {
        "colab": {
          "base_uri": "https://localhost:8080/"
        },
        "id": "JxnRUsbuRK8B",
        "outputId": "5c00337e-a518-4624-d776-ee0208757568"
      },
      "execution_count": null,
      "outputs": [
        {
          "output_type": "execute_result",
          "data": {
            "text/plain": [
              "[0,\n",
              " 1,\n",
              " 2,\n",
              " 3,\n",
              " 4,\n",
              " 5,\n",
              " 6,\n",
              " 7,\n",
              " 8,\n",
              " 9,\n",
              " 10,\n",
              " 11,\n",
              " 12,\n",
              " 13,\n",
              " 14,\n",
              " 15,\n",
              " 16,\n",
              " 17,\n",
              " 18,\n",
              " 19,\n",
              " 20,\n",
              " 21,\n",
              " 22,\n",
              " 23,\n",
              " 24,\n",
              " 25,\n",
              " 26,\n",
              " 27,\n",
              " 28,\n",
              " 29,\n",
              " 30,\n",
              " 31,\n",
              " 32,\n",
              " 33,\n",
              " 34,\n",
              " 35,\n",
              " 36,\n",
              " 37,\n",
              " 38,\n",
              " 39,\n",
              " 40,\n",
              " 41,\n",
              " 42,\n",
              " 43,\n",
              " 44,\n",
              " 45,\n",
              " 46,\n",
              " 47,\n",
              " 48,\n",
              " 49]"
            ]
          },
          "metadata": {},
          "execution_count": 32
        }
      ]
    },
    {
      "cell_type": "code",
      "source": [
        "list(range(5))"
      ],
      "metadata": {
        "colab": {
          "base_uri": "https://localhost:8080/"
        },
        "id": "KpyZ0MyxRWMp",
        "outputId": "80e3271e-d883-41ff-a1bb-3a5837cdb485"
      },
      "execution_count": null,
      "outputs": [
        {
          "output_type": "execute_result",
          "data": {
            "text/plain": [
              "[0, 1, 2, 3, 4]"
            ]
          },
          "metadata": {},
          "execution_count": 33
        }
      ]
    },
    {
      "cell_type": "code",
      "source": [
        "list(range(2, 5))"
      ],
      "metadata": {
        "colab": {
          "base_uri": "https://localhost:8080/"
        },
        "id": "DYo3NVWCRhjr",
        "outputId": "5d85bcaa-491f-4ae3-c8c7-fbf844ae92aa"
      },
      "execution_count": null,
      "outputs": [
        {
          "output_type": "execute_result",
          "data": {
            "text/plain": [
              "[2, 3, 4]"
            ]
          },
          "metadata": {},
          "execution_count": 34
        }
      ]
    },
    {
      "cell_type": "code",
      "source": [
        "list(range(2, 5, 2))"
      ],
      "metadata": {
        "colab": {
          "base_uri": "https://localhost:8080/"
        },
        "id": "p1aSf0quRn3z",
        "outputId": "d8f2a218-5426-4252-c4d7-761385059690"
      },
      "execution_count": null,
      "outputs": [
        {
          "output_type": "execute_result",
          "data": {
            "text/plain": [
              "[2, 4]"
            ]
          },
          "metadata": {},
          "execution_count": 35
        }
      ]
    },
    {
      "cell_type": "markdown",
      "source": [
        "# print all digits 0-9 as list"
      ],
      "metadata": {
        "id": "Za8GIsb6Sh1w"
      }
    },
    {
      "cell_type": "code",
      "source": [
        "list(range(10))"
      ],
      "metadata": {
        "colab": {
          "base_uri": "https://localhost:8080/"
        },
        "id": "_GlJ_-_5SVeN",
        "outputId": "51a03c2d-0351-481b-d3c6-029885df3ce1"
      },
      "execution_count": null,
      "outputs": [
        {
          "output_type": "execute_result",
          "data": {
            "text/plain": [
              "[0, 1, 2, 3, 4, 5, 6, 7, 8, 9]"
            ]
          },
          "metadata": {},
          "execution_count": 36
        }
      ]
    },
    {
      "cell_type": "code",
      "source": [
        "list(range(2,10,2))"
      ],
      "metadata": {
        "colab": {
          "base_uri": "https://localhost:8080/"
        },
        "id": "I-j86UQwSb-v",
        "outputId": "71b17352-30b5-4c4f-8132-66833856c885"
      },
      "execution_count": null,
      "outputs": [
        {
          "output_type": "execute_result",
          "data": {
            "text/plain": [
              "[2, 4, 6, 8]"
            ]
          },
          "metadata": {},
          "execution_count": 37
        }
      ]
    },
    {
      "cell_type": "code",
      "source": [
        "list(range(8,-1,-2))"
      ],
      "metadata": {
        "colab": {
          "base_uri": "https://localhost:8080/"
        },
        "id": "kzMg4ljkSuoS",
        "outputId": "dcf58d46-3545-4432-c394-0dc245bbad64"
      },
      "execution_count": null,
      "outputs": [
        {
          "output_type": "execute_result",
          "data": {
            "text/plain": [
              "[8, 6, 4, 2, 0]"
            ]
          },
          "metadata": {},
          "execution_count": 39
        }
      ]
    },
    {
      "cell_type": "markdown",
      "source": [
        "Dictonary"
      ],
      "metadata": {
        "id": "VJrE7ZFXGERy"
      }
    },
    {
      "cell_type": "code",
      "source": [
        "details = {'batch' : 7, 'course': 'dsa'}"
      ],
      "metadata": {
        "id": "bSCgytrHTYoN"
      },
      "execution_count": null,
      "outputs": []
    },
    {
      "cell_type": "code",
      "source": [
        "details['batch']"
      ],
      "metadata": {
        "colab": {
          "base_uri": "https://localhost:8080/"
        },
        "id": "zC-e5SqgTYbz",
        "outputId": "ea0e01b9-8a17-4847-c0f3-aff87b95713a"
      },
      "execution_count": null,
      "outputs": [
        {
          "output_type": "execute_result",
          "data": {
            "text/plain": [
              "7"
            ]
          },
          "metadata": {},
          "execution_count": 42
        }
      ]
    },
    {
      "cell_type": "code",
      "source": [
        "details['course']"
      ],
      "metadata": {
        "colab": {
          "base_uri": "https://localhost:8080/",
          "height": 35
        },
        "id": "gOrr27dgTYQH",
        "outputId": "5e94b0e8-aa16-4ff6-aaa4-b7aede58968e"
      },
      "execution_count": null,
      "outputs": [
        {
          "output_type": "execute_result",
          "data": {
            "text/plain": [
              "'dsa'"
            ],
            "application/vnd.google.colaboratory.intrinsic+json": {
              "type": "string"
            }
          },
          "metadata": {},
          "execution_count": 43
        }
      ]
    },
    {
      "cell_type": "code",
      "source": [
        "type(details)"
      ],
      "metadata": {
        "colab": {
          "base_uri": "https://localhost:8080/"
        },
        "id": "JN-NJLyrTYCA",
        "outputId": "2af7ce65-6c75-4d5a-eece-b9cb0f64f1af"
      },
      "execution_count": null,
      "outputs": [
        {
          "output_type": "execute_result",
          "data": {
            "text/plain": [
              "dict"
            ]
          },
          "metadata": {},
          "execution_count": 44
        }
      ]
    },
    {
      "cell_type": "code",
      "source": [
        "details.keys"
      ],
      "metadata": {
        "colab": {
          "base_uri": "https://localhost:8080/"
        },
        "id": "Rc0ddZieTX1L",
        "outputId": "d9c4bc91-4109-4e65-d05e-10bae6f898cc"
      },
      "execution_count": null,
      "outputs": [
        {
          "output_type": "execute_result",
          "data": {
            "text/plain": [
              "<function dict.keys>"
            ]
          },
          "metadata": {},
          "execution_count": 45
        }
      ]
    },
    {
      "cell_type": "code",
      "source": [
        "details.values"
      ],
      "metadata": {
        "colab": {
          "base_uri": "https://localhost:8080/"
        },
        "id": "veyJIGzsUVCC",
        "outputId": "56ac4c76-de3d-4e39-8748-dc6f510d8297"
      },
      "execution_count": null,
      "outputs": [
        {
          "output_type": "execute_result",
          "data": {
            "text/plain": [
              "<function dict.values>"
            ]
          },
          "metadata": {},
          "execution_count": 46
        }
      ]
    },
    {
      "cell_type": "code",
      "source": [
        "details.keys()"
      ],
      "metadata": {
        "colab": {
          "base_uri": "https://localhost:8080/"
        },
        "id": "MaZiOvkWUU-3",
        "outputId": "c650aab5-43f7-448b-dbd3-aa5bc5f7bf7e"
      },
      "execution_count": null,
      "outputs": [
        {
          "output_type": "execute_result",
          "data": {
            "text/plain": [
              "dict_keys(['batch', 'course'])"
            ]
          },
          "metadata": {},
          "execution_count": 47
        }
      ]
    },
    {
      "cell_type": "code",
      "source": [
        "details.values()"
      ],
      "metadata": {
        "colab": {
          "base_uri": "https://localhost:8080/"
        },
        "id": "TPHQwFSOUU8M",
        "outputId": "5b871950-15e2-4c97-cbfe-900f43e75af8"
      },
      "execution_count": null,
      "outputs": [
        {
          "output_type": "execute_result",
          "data": {
            "text/plain": [
              "dict_values([7, 'dsa'])"
            ]
          },
          "metadata": {},
          "execution_count": 48
        }
      ]
    },
    {
      "cell_type": "code",
      "source": [
        "print(details)"
      ],
      "metadata": {
        "colab": {
          "base_uri": "https://localhost:8080/"
        },
        "id": "vSxuHiTBUU5c",
        "outputId": "c01b6a9d-e47c-47f4-8b5d-f381393cdee4"
      },
      "execution_count": null,
      "outputs": [
        {
          "output_type": "stream",
          "name": "stdout",
          "text": [
            "{'batch': 7, 'course': 'dsa'}\n"
          ]
        }
      ]
    },
    {
      "cell_type": "code",
      "source": [
        "colors = {'red', 'green', 'blue', 'green'}"
      ],
      "metadata": {
        "id": "3CrRN8eVUU3M"
      },
      "execution_count": null,
      "outputs": []
    },
    {
      "cell_type": "code",
      "source": [
        "type(colors)"
      ],
      "metadata": {
        "colab": {
          "base_uri": "https://localhost:8080/"
        },
        "id": "ZJJNZC5NUUyZ",
        "outputId": "45153d9b-46ee-412d-bc9d-4946a6d73579"
      },
      "execution_count": null,
      "outputs": [
        {
          "output_type": "execute_result",
          "data": {
            "text/plain": [
              "set"
            ]
          },
          "metadata": {},
          "execution_count": 56
        }
      ]
    },
    {
      "cell_type": "markdown",
      "source": [
        "engine_off = True"
      ],
      "metadata": {
        "id": "-sTwdz2yVogx"
      }
    },
    {
      "cell_type": "code",
      "source": [
        "engine_off = True\n",
        "fan_on = False"
      ],
      "metadata": {
        "id": "_au8ADroUUns"
      },
      "execution_count": null,
      "outputs": []
    },
    {
      "cell_type": "code",
      "source": [
        "type(engine_off)"
      ],
      "metadata": {
        "colab": {
          "base_uri": "https://localhost:8080/"
        },
        "id": "hXJrMz66Vj83",
        "outputId": "59bced21-2828-435b-aedd-ce0884d31de2"
      },
      "execution_count": null,
      "outputs": [
        {
          "output_type": "execute_result",
          "data": {
            "text/plain": [
              "bool"
            ]
          },
          "metadata": {},
          "execution_count": 58
        }
      ]
    },
    {
      "cell_type": "code",
      "source": [
        "type(True)"
      ],
      "metadata": {
        "colab": {
          "base_uri": "https://localhost:8080/"
        },
        "id": "5YmOGoepVj5c",
        "outputId": "44727bfd-357a-4c9f-ca69-b1e984aed768"
      },
      "execution_count": null,
      "outputs": [
        {
          "output_type": "execute_result",
          "data": {
            "text/plain": [
              "bool"
            ]
          },
          "metadata": {},
          "execution_count": 59
        }
      ]
    },
    {
      "cell_type": "code",
      "source": [
        "value = None"
      ],
      "metadata": {
        "id": "gJ1XiHKjVj2n"
      },
      "execution_count": null,
      "outputs": []
    },
    {
      "cell_type": "code",
      "source": [
        "type(value)"
      ],
      "metadata": {
        "colab": {
          "base_uri": "https://localhost:8080/"
        },
        "id": "zq7CDOyFWOes",
        "outputId": "f2f2d987-ee27-435b-bc7c-265af88bf549"
      },
      "execution_count": null,
      "outputs": [
        {
          "output_type": "execute_result",
          "data": {
            "text/plain": [
              "NoneType"
            ]
          },
          "metadata": {},
          "execution_count": 62
        }
      ]
    },
    {
      "cell_type": "code",
      "source": [
        "bank_interest = 7.5"
      ],
      "metadata": {
        "id": "08NKVA9UXgEk"
      },
      "execution_count": null,
      "outputs": []
    },
    {
      "cell_type": "code",
      "source": [
        "type(bank_interest)"
      ],
      "metadata": {
        "colab": {
          "base_uri": "https://localhost:8080/"
        },
        "id": "_kTj9qoDXnyj",
        "outputId": "228508c6-e069-4ca2-aed1-49f153f0d402"
      },
      "execution_count": null,
      "outputs": [
        {
          "output_type": "execute_result",
          "data": {
            "text/plain": [
              "float"
            ]
          },
          "metadata": {},
          "execution_count": 64
        }
      ]
    },
    {
      "cell_type": "code",
      "source": [
        "print(bank_interest)"
      ],
      "metadata": {
        "colab": {
          "base_uri": "https://localhost:8080/"
        },
        "id": "56k0-QV-Xtvn",
        "outputId": "5681e03f-f6c5-43e1-c9bb-384047ae20b4"
      },
      "execution_count": null,
      "outputs": [
        {
          "output_type": "stream",
          "name": "stdout",
          "text": [
            "7.5\n"
          ]
        }
      ]
    },
    {
      "cell_type": "code",
      "source": [
        "year_of_birth = 1998"
      ],
      "metadata": {
        "id": "4QJ7C8abXyw8"
      },
      "execution_count": null,
      "outputs": []
    },
    {
      "cell_type": "code",
      "source": [
        "age = 2025-year_of_birth\n",
        "print(age)"
      ],
      "metadata": {
        "colab": {
          "base_uri": "https://localhost:8080/"
        },
        "id": "Iirho0ltX_sk",
        "outputId": "2cac7fdd-c424-4933-c2e1-cc69ac51a8e9"
      },
      "execution_count": null,
      "outputs": [
        {
          "output_type": "stream",
          "name": "stdout",
          "text": [
            "27\n"
          ]
        }
      ]
    },
    {
      "cell_type": "code",
      "source": [
        "#compute age from year of birth\n",
        "#store your name,age and location as dictionary\n",
        "bio_data = {'name': 'thasliya',\\\n",
        "            'age': 24,\\\n",
        "            'location':'palakad'}"
      ],
      "metadata": {
        "id": "8m5P6RGEX_pC"
      },
      "execution_count": null,
      "outputs": []
    },
    {
      "cell_type": "code",
      "source": [
        "to_do_list =['break fast','lunch','dinner','studiying']"
      ],
      "metadata": {
        "id": "htlke90AX_QU"
      },
      "execution_count": null,
      "outputs": []
    },
    {
      "cell_type": "code",
      "source": [
        "#create list of all odd numbers of range 100-1\n",
        "odd_numbers = list(range(99,0,-2))\n",
        "print(odd_numbers)"
      ],
      "metadata": {
        "colab": {
          "base_uri": "https://localhost:8080/"
        },
        "id": "tO0dSHvDa94-",
        "outputId": "baa16cc6-cc10-466b-b143-7230202b286f"
      },
      "execution_count": null,
      "outputs": [
        {
          "output_type": "stream",
          "name": "stdout",
          "text": [
            "[99, 97, 95, 93, 91, 89, 87, 85, 83, 81, 79, 77, 75, 73, 71, 69, 67, 65, 63, 61, 59, 57, 55, 53, 51, 49, 47, 45, 43, 41, 39, 37, 35, 33, 31, 29, 27, 25, 23, 21, 19, 17, 15, 13, 11, 9, 7, 5, 3, 1]\n"
          ]
        }
      ]
    },
    {
      "cell_type": "code",
      "source": [
        "print(to_do_list[1])"
      ],
      "metadata": {
        "colab": {
          "base_uri": "https://localhost:8080/"
        },
        "id": "qNRpOniVb7jR",
        "outputId": "36d94303-4d6d-44d3-ce26-da3cd34740c2"
      },
      "execution_count": null,
      "outputs": [
        {
          "output_type": "stream",
          "name": "stdout",
          "text": [
            "lunch\n"
          ]
        }
      ]
    },
    {
      "cell_type": "code",
      "source": [
        "#print 2nd lat item from your to do list\n",
        "print(to_do_list[2])"
      ],
      "metadata": {
        "colab": {
          "base_uri": "https://localhost:8080/"
        },
        "id": "J9nTSxdAcG_K",
        "outputId": "4b9f0ce1-cf2e-4d35-e3ae-733ea4b2045a"
      },
      "execution_count": null,
      "outputs": [
        {
          "output_type": "stream",
          "name": "stdout",
          "text": [
            "dinner\n"
          ]
        }
      ]
    },
    {
      "cell_type": "code",
      "source": [
        "items = [1,2,3,4,5]\n",
        "print(items[-2])"
      ],
      "metadata": {
        "colab": {
          "base_uri": "https://localhost:8080/"
        },
        "id": "7FPEMFelcplk",
        "outputId": "4a29303c-2400-4c27-bcc2-ae8f07039aa9"
      },
      "execution_count": null,
      "outputs": [
        {
          "output_type": "stream",
          "name": "stdout",
          "text": [
            "4\n"
          ]
        }
      ]
    },
    {
      "cell_type": "code",
      "source": [
        "#print the no. of characters in your name\n",
        "name = 'shaliha'\n",
        "print(len(name))"
      ],
      "metadata": {
        "colab": {
          "base_uri": "https://localhost:8080/"
        },
        "id": "5GxN2n3Ic5eX",
        "outputId": "5ab38eff-b847-4d60-e5fe-b4ac9927fa86"
      },
      "execution_count": null,
      "outputs": [
        {
          "output_type": "stream",
          "name": "stdout",
          "text": [
            "7\n"
          ]
        }
      ]
    },
    {
      "cell_type": "code",
      "source": [
        "x = input()"
      ],
      "metadata": {
        "colab": {
          "base_uri": "https://localhost:8080/"
        },
        "id": "Gn64KjkIc5aX",
        "outputId": "99a4729c-b84f-4888-a3d3-ff3f694e6096"
      },
      "execution_count": null,
      "outputs": [
        {
          "name": "stdout",
          "output_type": "stream",
          "text": [
            "shaliha\n"
          ]
        }
      ]
    },
    {
      "cell_type": "code",
      "source": [
        "print(x)"
      ],
      "metadata": {
        "colab": {
          "base_uri": "https://localhost:8080/"
        },
        "id": "sSAEsGrrc5XD",
        "outputId": "03c7e344-ad40-4b71-b95e-9293794afc5f"
      },
      "execution_count": null,
      "outputs": [
        {
          "output_type": "stream",
          "name": "stdout",
          "text": [
            "shaliha\n"
          ]
        }
      ]
    },
    {
      "cell_type": "code",
      "source": [
        "type(x)"
      ],
      "metadata": {
        "colab": {
          "base_uri": "https://localhost:8080/"
        },
        "id": "v5-D6AcheYtq",
        "outputId": "ca5cf66c-8dab-4701-912b-c460c6c6864f"
      },
      "execution_count": null,
      "outputs": [
        {
          "output_type": "execute_result",
          "data": {
            "text/plain": [
              "str"
            ]
          },
          "metadata": {},
          "execution_count": 5
        }
      ]
    },
    {
      "cell_type": "code",
      "source": [
        "x = input(\"Enter your age\")"
      ],
      "metadata": {
        "colab": {
          "base_uri": "https://localhost:8080/"
        },
        "id": "BAYqW8ADc5Us",
        "outputId": "0744a853-e537-4923-db2c-e94c51ca476d"
      },
      "execution_count": null,
      "outputs": [
        {
          "name": "stdout",
          "output_type": "stream",
          "text": [
            "Enter your age22\n"
          ]
        }
      ]
    },
    {
      "cell_type": "code",
      "source": [
        "type(x)"
      ],
      "metadata": {
        "colab": {
          "base_uri": "https://localhost:8080/"
        },
        "id": "l6_lydjBc5Sa",
        "outputId": "6cbedad2-d817-4be0-cf76-f1511ac06480"
      },
      "execution_count": null,
      "outputs": [
        {
          "output_type": "execute_result",
          "data": {
            "text/plain": [
              "str"
            ]
          },
          "metadata": {},
          "execution_count": 86
        }
      ]
    },
    {
      "cell_type": "code",
      "source": [
        "#write code to do basic arithmetic operation (+-*\\) on two number accepted from user\n",
        "x = int(input('enter the first number'))\n",
        "y = int(input('enter the second number'))\n",
        "print(x+y,x-y,x*y,x/y)"
      ],
      "metadata": {
        "colab": {
          "base_uri": "https://localhost:8080/"
        },
        "id": "3RVrBm18ejtA",
        "outputId": "0a3d7cba-2248-4b09-b717-1f38d57c5c3e"
      },
      "execution_count": null,
      "outputs": [
        {
          "output_type": "stream",
          "name": "stdout",
          "text": [
            "enter the first number4\n",
            "enter the second number9\n",
            "13 -5 36 0.4444444444444444\n"
          ]
        }
      ]
    },
    {
      "cell_type": "code",
      "source": [
        "x = int(input('enter your age'))\n",
        "print('your age is',x)\n",
        "print(f'your are {x} year old')"
      ],
      "metadata": {
        "colab": {
          "base_uri": "https://localhost:8080/"
        },
        "id": "BkeJkHGOejfv",
        "outputId": "2dccf9a2-7f48-4a84-a486-b1359a843deb"
      },
      "execution_count": null,
      "outputs": [
        {
          "output_type": "stream",
          "name": "stdout",
          "text": [
            "enter your age24\n",
            "your age is 24\n",
            "your are 24 year old\n"
          ]
        }
      ]
    },
    {
      "cell_type": "code",
      "source": [
        "#print age and year of birth accepting user input and print formating\n",
        "x = int(input('year of birth'))\n",
        "age = 2025-x\n",
        "print('your borning at',x)\n",
        "print(f'your borning at {x} and your age is {age}')"
      ],
      "metadata": {
        "colab": {
          "base_uri": "https://localhost:8080/"
        },
        "id": "wGX0qmKUc5Pm",
        "outputId": "449810ee-3c44-43a8-d6c9-25a8c59854c9"
      },
      "execution_count": null,
      "outputs": [
        {
          "output_type": "stream",
          "name": "stdout",
          "text": [
            "year of birth2001\n",
            "your borning at 2001\n",
            "your borning at 2001 and your age is 24\n"
          ]
        }
      ]
    },
    {
      "cell_type": "code",
      "source": [],
      "metadata": {
        "id": "2K2DUbCeHZxJ"
      },
      "execution_count": null,
      "outputs": []
    },
    {
      "cell_type": "code",
      "execution_count": null,
      "metadata": {
        "colab": {
          "base_uri": "https://localhost:8080/"
        },
        "id": "okXQ06EsoF3v",
        "outputId": "5531b555-df5f-451c-8ce7-b7964c54b789"
      },
      "outputs": [
        {
          "output_type": "stream",
          "name": "stdout",
          "text": [
            "1000\n"
          ]
        }
      ],
      "source": [
        "#exponent\n",
        "a = 10\n",
        "b = 3\n",
        "c = a**b\n",
        "print(c)"
      ]
    },
    {
      "cell_type": "code",
      "source": [
        "#floor division\n",
        "num = 9\n",
        "den = 2\n",
        "result = num/den\n",
        "print(result)"
      ],
      "metadata": {
        "colab": {
          "base_uri": "https://localhost:8080/"
        },
        "id": "r6aXk2ozoc-p",
        "outputId": "b94421c0-fe6c-4bfc-a1ba-feee7de22832"
      },
      "execution_count": null,
      "outputs": [
        {
          "output_type": "stream",
          "name": "stdout",
          "text": [
            "4.5\n"
          ]
        }
      ]
    },
    {
      "cell_type": "code",
      "source": [
        "#modulus\n",
        "modulus = num%den\n",
        "print(modulus)"
      ],
      "metadata": {
        "colab": {
          "base_uri": "https://localhost:8080/"
        },
        "id": "SsTkU3ebou7j",
        "outputId": "82eca0c9-9c75-48b6-86ff-f50c6ae77f1a"
      },
      "execution_count": null,
      "outputs": [
        {
          "output_type": "stream",
          "name": "stdout",
          "text": [
            "1\n"
          ]
        }
      ]
    },
    {
      "cell_type": "markdown",
      "source": [
        "logical operators are and, or, not"
      ],
      "metadata": {
        "id": "Odl9XbEpqXjD"
      }
    },
    {
      "cell_type": "code",
      "source": [
        "#AND\n",
        "print(True and False)"
      ],
      "metadata": {
        "id": "T21cBISmoum0"
      },
      "execution_count": null,
      "outputs": []
    },
    {
      "cell_type": "code",
      "source": [
        "#OR\n",
        "print(True or False)"
      ],
      "metadata": {
        "id": "4woUXXhKouh-"
      },
      "execution_count": null,
      "outputs": []
    },
    {
      "cell_type": "code",
      "source": [
        "#NOT\n",
        "print(not True)"
      ],
      "metadata": {
        "id": "Z1kv-w6kp5bu"
      },
      "execution_count": null,
      "outputs": []
    },
    {
      "cell_type": "markdown",
      "source": [
        "membership operators are in, not in"
      ],
      "metadata": {
        "id": "6rB-hkrqqjov"
      }
    },
    {
      "cell_type": "code",
      "source": [
        "#IN\n",
        "print(1 in(1,2,3))"
      ],
      "metadata": {
        "id": "wVp0PJIKqAE4"
      },
      "execution_count": null,
      "outputs": []
    },
    {
      "cell_type": "code",
      "source": [
        "#notin\n",
        "print(1 not in(1,2,3))"
      ],
      "metadata": {
        "colab": {
          "base_uri": "https://localhost:8080/"
        },
        "id": "FPrb-T-_qADA",
        "outputId": "c37cf8fb-d037-4545-e865-4646a7911b62"
      },
      "execution_count": null,
      "outputs": [
        {
          "output_type": "stream",
          "name": "stdout",
          "text": [
            "False\n"
          ]
        }
      ]
    },
    {
      "cell_type": "code",
      "source": [
        "'x' in 'malayalam'"
      ],
      "metadata": {
        "colab": {
          "base_uri": "https://localhost:8080/"
        },
        "id": "R--I9mJop_9v",
        "outputId": "dda2bfc4-8c22-4294-dbc7-7224e36ff1f8"
      },
      "execution_count": null,
      "outputs": [
        {
          "output_type": "execute_result",
          "data": {
            "text/plain": [
              "False"
            ]
          },
          "metadata": {},
          "execution_count": 73
        }
      ]
    },
    {
      "cell_type": "markdown",
      "source": [
        "identity operators are is , is not"
      ],
      "metadata": {
        "id": "jEtHsM5QrTYs"
      }
    },
    {
      "cell_type": "code",
      "source": [
        "#IS\n",
        "a = 10\n",
        "b = 10\n",
        "print(a is b)\n",
        "a = 12\n",
        "b = 10\n",
        "print(a is b)"
      ],
      "metadata": {
        "colab": {
          "base_uri": "https://localhost:8080/"
        },
        "id": "dT-dyVoRp_lX",
        "outputId": "abb04c65-2d06-4f3b-f823-1fca576cb5a7"
      },
      "execution_count": null,
      "outputs": [
        {
          "output_type": "stream",
          "name": "stdout",
          "text": [
            "True\n",
            "False\n"
          ]
        }
      ]
    },
    {
      "cell_type": "code",
      "source": [
        "#ISNOT\n",
        "a = 10\n",
        "b = 10\n",
        "print(a is not a)\n",
        "a = 12\n",
        "b = 10\n",
        "print(a is not b)"
      ],
      "metadata": {
        "colab": {
          "base_uri": "https://localhost:8080/"
        },
        "id": "ZatZtVsirLt8",
        "outputId": "bea3b995-978b-4d91-fbcb-93caee2f3a47"
      },
      "execution_count": null,
      "outputs": [
        {
          "output_type": "stream",
          "name": "stdout",
          "text": [
            "False\n",
            "True\n"
          ]
        }
      ]
    },
    {
      "cell_type": "code",
      "source": [
        "'hello'*4"
      ],
      "metadata": {
        "colab": {
          "base_uri": "https://localhost:8080/",
          "height": 36
        },
        "id": "Ti-tvemusaK4",
        "outputId": "79a6a91c-33a9-4952-8522-95318016da0d"
      },
      "execution_count": null,
      "outputs": [
        {
          "output_type": "execute_result",
          "data": {
            "text/plain": [
              "'hellohellohellohello'"
            ],
            "application/vnd.google.colaboratory.intrinsic+json": {
              "type": "string"
            }
          },
          "metadata": {},
          "execution_count": 76
        }
      ]
    },
    {
      "cell_type": "code",
      "source": [
        "'welcome'*5"
      ],
      "metadata": {
        "colab": {
          "base_uri": "https://localhost:8080/",
          "height": 36
        },
        "id": "FSdpV9_Hsoz0",
        "outputId": "8c256ddc-d7d4-450f-90ea-e0fca62ab287"
      },
      "execution_count": null,
      "outputs": [
        {
          "output_type": "execute_result",
          "data": {
            "text/plain": [
              "'welcomewelcomewelcomewelcomewelcome'"
            ],
            "application/vnd.google.colaboratory.intrinsic+json": {
              "type": "string"
            }
          },
          "metadata": {},
          "execution_count": 77
        }
      ]
    },
    {
      "cell_type": "code",
      "source": [
        "print('hellow\\n'*5)"
      ],
      "metadata": {
        "colab": {
          "base_uri": "https://localhost:8080/"
        },
        "id": "VvmytUS2tFqD",
        "outputId": "a8b699a5-5dec-45b3-9fe7-73b6122ad8af"
      },
      "execution_count": null,
      "outputs": [
        {
          "output_type": "stream",
          "name": "stdout",
          "text": [
            "hellow\n",
            "hellow\n",
            "hellow\n",
            "hellow\n",
            "hellow\n",
            "\n"
          ]
        }
      ]
    },
    {
      "cell_type": "markdown",
      "source": [
        "control flow if\n",
        "this checks a condition, and if its true,the intented code block under it will executed.\n",
        "\n"
      ],
      "metadata": {
        "id": "CpcVXgRKR0iH"
      }
    },
    {
      "cell_type": "code",
      "source": [
        "#if True\n",
        "#print('inside if block')"
      ],
      "metadata": {
        "id": "Lf0Ka2C_R48u"
      },
      "execution_count": null,
      "outputs": []
    },
    {
      "cell_type": "code",
      "source": [
        "year=int(input('enter your birth year:'))\n",
        "age=2025-year\n",
        "if age>=18:\n",
        "  print('eligible to vote')\n",
        "else:\n",
        "  print('not eligible to birth')"
      ],
      "metadata": {
        "colab": {
          "base_uri": "https://localhost:8080/"
        },
        "id": "XTKS4RmGTqBe",
        "outputId": "b1b18b64-4ab3-46bb-97ee-63223a3e3913"
      },
      "execution_count": null,
      "outputs": [
        {
          "output_type": "stream",
          "name": "stdout",
          "text": [
            "enter your birth year:2001\n",
            "eligible to vote\n"
          ]
        }
      ]
    },
    {
      "cell_type": "markdown",
      "source": [
        "if-elif"
      ],
      "metadata": {
        "id": "c6uRxfs1Uujc"
      }
    },
    {
      "cell_type": "code",
      "source": [
        "year=int(input('enter your birth year:'))\n",
        "age=2025-year\n",
        "if age>18:\n",
        "  print('eligible to vote')\n",
        "elif age==18:\n",
        "  print(' eligible to vote')\n",
        "elif age<18:\n",
        "  print('not eligible to vote')"
      ],
      "metadata": {
        "colab": {
          "base_uri": "https://localhost:8080/"
        },
        "id": "Wk3P8e0aU6PQ",
        "outputId": "15ad803b-6ebd-4728-f270-09cb870a68e9"
      },
      "execution_count": null,
      "outputs": [
        {
          "output_type": "stream",
          "name": "stdout",
          "text": [
            "enter your birth year:2001\n",
            "eligible to vote\n"
          ]
        }
      ]
    },
    {
      "cell_type": "markdown",
      "source": [
        "if-elif-else"
      ],
      "metadata": {
        "id": "dy3a2AU5VtCl"
      }
    },
    {
      "cell_type": "code",
      "source": [
        "year=int(input('enter your birth year:'))\n",
        "age=2025-year\n",
        "if age>18:\n",
        "  print('eligible to vote')\n",
        "elif age==18:\n",
        "  print(' eligible to vote')\n",
        "else:\n",
        "  print('not eligible to vote')"
      ],
      "metadata": {
        "colab": {
          "base_uri": "https://localhost:8080/"
        },
        "id": "vIzJmUMYVslI",
        "outputId": "770fe0f5-e986-40dc-c5a1-820e15242d2f"
      },
      "execution_count": null,
      "outputs": [
        {
          "output_type": "stream",
          "name": "stdout",
          "text": [
            "enter your birth year:2001\n",
            "eligible to vote\n"
          ]
        }
      ]
    },
    {
      "cell_type": "code",
      "source": [
        "age=int(input('enter the age'))\n",
        "if age<=12:\n",
        "  print('child')\n",
        "elif 13<=age<=19:\n",
        "  print('teenage')\n",
        "elif 20<=age<=59:\n",
        "  print('adult')\n",
        "else:\n",
        "  print('senior citizen')\n"
      ],
      "metadata": {
        "colab": {
          "base_uri": "https://localhost:8080/"
        },
        "id": "4ei2rlLiWGbr",
        "outputId": "7ed3d4bb-8805-4d88-ca87-1d9e2a273f3f"
      },
      "execution_count": null,
      "outputs": [
        {
          "output_type": "stream",
          "name": "stdout",
          "text": [
            "enter the age2001\n",
            "senior citizen\n"
          ]
        }
      ]
    },
    {
      "cell_type": "code",
      "source": [
        "#Nestedif\n",
        "x=20\n",
        "if x>10:\n",
        "  print('greater than x')\n",
        "if x>30:\n",
        "  print('greaterthan x')\n",
        "else:\n",
        "  print('not greaterthan x')\n"
      ],
      "metadata": {
        "colab": {
          "base_uri": "https://localhost:8080/"
        },
        "id": "dLNy26PEWGYP",
        "outputId": "288d2f34-ad42-401f-e797-242fd14aa43f"
      },
      "execution_count": null,
      "outputs": [
        {
          "output_type": "stream",
          "name": "stdout",
          "text": [
            "greater than x\n",
            "not greaterthan x\n"
          ]
        }
      ]
    },
    {
      "cell_type": "code",
      "source": [
        "#write code to check if your name is lengthy(more than 10 characters)\n",
        "x=input('enter the name')\n",
        "y=len(x)\n",
        "if y>10:\n",
        "  print('name is lengthy')\n",
        "else:\n",
        "  print('name is not lengthy')"
      ],
      "metadata": {
        "colab": {
          "base_uri": "https://localhost:8080/"
        },
        "id": "8Envfi1HWGS6",
        "outputId": "792b8057-728f-4a64-e3c3-9013283c4325"
      },
      "execution_count": null,
      "outputs": [
        {
          "output_type": "stream",
          "name": "stdout",
          "text": [
            "enter the namethasliya\n",
            "name is not lengthy\n"
          ]
        }
      ]
    },
    {
      "cell_type": "code",
      "source": [
        "x=input('railway time:')\n",
        "z=x.split(':')\n",
        "y=int(z[0])\n",
        "if y<=12:\n",
        "  print(x,'am')\n",
        "else:\n",
        "  print(y-12,':',z[1],'pm')\n",
        "\n"
      ],
      "metadata": {
        "colab": {
          "base_uri": "https://localhost:8080/"
        },
        "id": "F8PW89GKVkIy",
        "outputId": "495502c1-4447-4d95-b18a-8161e4e24dd5"
      },
      "execution_count": null,
      "outputs": [
        {
          "output_type": "stream",
          "name": "stdout",
          "text": [
            "railway time:18:31\n",
            "6 : 31 pm\n"
          ]
        }
      ]
    },
    {
      "cell_type": "code",
      "source": [
        "#write code to print a given string is palindrome or not\n",
        "x=input('write a word')\n",
        "y=x[::-1]\n",
        "if x==y:\n",
        "  print('palindrome')\n",
        "else:\n",
        "  print('not palindrome')"
      ],
      "metadata": {
        "colab": {
          "base_uri": "https://localhost:8080/"
        },
        "id": "djgiUkrQfKlX",
        "outputId": "9bba8d40-18c4-4302-8f9b-ee6dda6cb85c"
      },
      "execution_count": null,
      "outputs": [
        {
          "output_type": "stream",
          "name": "stdout",
          "text": [
            "write a wordmalayalam\n",
            "palindrome\n"
          ]
        }
      ]
    },
    {
      "cell_type": "code",
      "source": [
        "#write code to print a day is holiday(sunday nd satuday)\n",
        "day=['mon','tue','wed','thu','fri']\n",
        "holiday=['sun','sat']\n",
        "x=input('enter a day')\n",
        "if x in holiday:\n",
        "  print('holiday')\n",
        "else:\n",
        "  print('not holiday')\n"
      ],
      "metadata": {
        "colab": {
          "base_uri": "https://localhost:8080/"
        },
        "id": "_f2RCg6Due3B",
        "outputId": "1e32ee23-32d3-485d-985c-9fbcb178cec3"
      },
      "execution_count": null,
      "outputs": [
        {
          "output_type": "stream",
          "name": "stdout",
          "text": [
            "enter a daymon\n",
            "not holiday\n"
          ]
        }
      ]
    },
    {
      "cell_type": "code",
      "source": [
        "#place order\n",
        "a=2\n",
        "b=3.14519\n",
        "print('a contains {}'.format(a))\n",
        "print('a contains {} and b contains {}'.format(a,b))\n",
        "print('a contains {1} and b contains {0}'.format(b,a))\n",
        "print(f'a contains {a} and b contains {b}')\n",
        "print(f'b contains {b:.3f}')"
      ],
      "metadata": {
        "colab": {
          "base_uri": "https://localhost:8080/"
        },
        "id": "V0ryldXKzPlj",
        "outputId": "68b83b1a-a43f-4a0c-9e0e-29926dcfc211"
      },
      "execution_count": null,
      "outputs": [
        {
          "output_type": "stream",
          "name": "stdout",
          "text": [
            "a contains 2\n",
            "a contains 2 and b contains 3.14519\n",
            "a contains 2 and b contains 3.14519\n",
            "a contains 2 and b contains 3.14519\n",
            "b contains 3.145\n"
          ]
        }
      ]
    },
    {
      "cell_type": "code",
      "source": [
        "\n",
        "#multivariable assignment\n",
        "name,age,location = 'guest',22,'cochin'\n",
        "print(name)\n",
        "print(age)\n",
        "print(location)"
      ],
      "metadata": {
        "colab": {
          "base_uri": "https://localhost:8080/"
        },
        "id": "eVDjsdaP2qd4",
        "outputId": "d830bae2-224a-4f8c-f693-a72e489b4d0c"
      },
      "execution_count": null,
      "outputs": [
        {
          "output_type": "stream",
          "name": "stdout",
          "text": [
            "guest\n",
            "22\n",
            "cochin\n"
          ]
        }
      ]
    },
    {
      "cell_type": "code",
      "source": [
        "#type conversion and casting\n",
        "#integer to string\n",
        "a=5\n",
        "b=str(a)\n",
        "print(b,type(b))\n",
        "\n",
        "#string to integer\n",
        "a='5'\n",
        "b=int(a)\n",
        "print(b,type(b))\n",
        "\n",
        "#integer to float\n",
        "a=5\n",
        "b=float(a)\n",
        "print(b,type(b))"
      ],
      "metadata": {
        "colab": {
          "base_uri": "https://localhost:8080/"
        },
        "id": "-jPVQn8Y6lm0",
        "outputId": "dbbbf96e-b4fe-480f-fd5c-5d296a0a9c51"
      },
      "execution_count": null,
      "outputs": [
        {
          "output_type": "stream",
          "name": "stdout",
          "text": [
            "5 <class 'str'>\n",
            "5 <class 'int'>\n",
            "5.0 <class 'float'>\n"
          ]
        }
      ]
    },
    {
      "cell_type": "code",
      "source": [
        "a=5\n",
        "b=str(a)\n",
        "print(b,type(b))"
      ],
      "metadata": {
        "colab": {
          "base_uri": "https://localhost:8080/"
        },
        "id": "ZuPoYtrr8box",
        "outputId": "001d345c-6c81-43b5-918c-cf3c594750e3"
      },
      "execution_count": null,
      "outputs": [
        {
          "output_type": "stream",
          "name": "stdout",
          "text": [
            "5 <class 'str'>\n"
          ]
        }
      ]
    },
    {
      "cell_type": "code",
      "source": [
        "a=5\n",
        "b=float(a)\n",
        "print(b,type(b))"
      ],
      "metadata": {
        "colab": {
          "base_uri": "https://localhost:8080/"
        },
        "id": "m4zQCo8u80gJ",
        "outputId": "0c93ddc9-82bc-44fe-edde-79947dc7bf98"
      },
      "execution_count": null,
      "outputs": [
        {
          "output_type": "stream",
          "name": "stdout",
          "text": [
            "5.0 <class 'float'>\n"
          ]
        }
      ]
    },
    {
      "cell_type": "code",
      "source": [
        "a='5'\n",
        "b=int(a)\n",
        "print(b,type(b))"
      ],
      "metadata": {
        "colab": {
          "base_uri": "https://localhost:8080/"
        },
        "id": "T6yUJABe8-rd",
        "outputId": "2d411f22-1ac7-47ac-cdc4-610ffcc67945"
      },
      "execution_count": null,
      "outputs": [
        {
          "output_type": "stream",
          "name": "stdout",
          "text": [
            "5 <class 'int'>\n"
          ]
        }
      ]
    },
    {
      "cell_type": "code",
      "source": [
        "a='5'\n",
        "b=float(a)\n",
        "print(b,type(b))"
      ],
      "metadata": {
        "colab": {
          "base_uri": "https://localhost:8080/"
        },
        "id": "8ejLLUy49N2b",
        "outputId": "e5ef9895-e498-42d9-c1c0-5926ec504bb9"
      },
      "execution_count": null,
      "outputs": [
        {
          "output_type": "stream",
          "name": "stdout",
          "text": [
            "5.0 <class 'float'>\n"
          ]
        }
      ]
    },
    {
      "cell_type": "code",
      "source": [
        "a=['x','y','z']\n",
        "b=tuple(a)\n",
        "print(b,type(b))"
      ],
      "metadata": {
        "colab": {
          "base_uri": "https://localhost:8080/"
        },
        "id": "f-BcSqo69bJh",
        "outputId": "b2f0c9fb-7200-44e7-8b60-2ae8f90e9cfa"
      },
      "execution_count": null,
      "outputs": [
        {
          "output_type": "stream",
          "name": "stdout",
          "text": [
            "('x', 'y', 'z') <class 'tuple'>\n"
          ]
        }
      ]
    },
    {
      "cell_type": "code",
      "source": [
        "a=('x','y','z')\n",
        "b=list(a)\n",
        "print(b,type(b))"
      ],
      "metadata": {
        "colab": {
          "base_uri": "https://localhost:8080/"
        },
        "id": "LrEsdyS6952Q",
        "outputId": "1b778f60-e29c-43b2-dc07-6dba60454403"
      },
      "execution_count": null,
      "outputs": [
        {
          "output_type": "stream",
          "name": "stdout",
          "text": [
            "['x', 'y', 'z'] <class 'list'>\n"
          ]
        }
      ]
    },
    {
      "cell_type": "code",
      "source": [
        "#key words in python\n",
        "import keyword\n",
        "print(keyword.kwlist)"
      ],
      "metadata": {
        "colab": {
          "base_uri": "https://localhost:8080/"
        },
        "id": "N7_VXgPe-xaq",
        "outputId": "d7d60edd-c094-4e7d-a5fd-7cc575fbbbf7"
      },
      "execution_count": null,
      "outputs": [
        {
          "output_type": "stream",
          "name": "stdout",
          "text": [
            "['False', 'None', 'True', 'and', 'as', 'assert', 'async', 'await', 'break', 'class', 'continue', 'def', 'del', 'elif', 'else', 'except', 'finally', 'for', 'from', 'global', 'if', 'import', 'in', 'is', 'lambda', 'nonlocal', 'not', 'or', 'pass', 'raise', 'return', 'try', 'while', 'with', 'yield']\n"
          ]
        }
      ]
    },
    {
      "cell_type": "code",
      "source": [
        "#string join\n",
        "domain = ['data','science']\n",
        "'_'.join(domain)"
      ],
      "metadata": {
        "colab": {
          "base_uri": "https://localhost:8080/",
          "height": 36
        },
        "id": "iQ3AeNQU_Y3U",
        "outputId": "dcc5f493-523e-4605-8b8a-76c9d0d8f2eb"
      },
      "execution_count": null,
      "outputs": [
        {
          "output_type": "execute_result",
          "data": {
            "text/plain": [
              "'data_science'"
            ],
            "application/vnd.google.colaboratory.intrinsic+json": {
              "type": "string"
            }
          },
          "metadata": {},
          "execution_count": 109
        }
      ]
    },
    {
      "cell_type": "code",
      "source": [
        "dic={'name':'Shaliha','age':22,'place':'kannur'}\n",
        "print(dic.keys())\n",
        "print(dic.items())\n",
        "for a,b in dic.items():\n",
        "  print(f\"my {a} is {b}\")"
      ],
      "metadata": {
        "colab": {
          "base_uri": "https://localhost:8080/"
        },
        "id": "J__c-1Zy2qLn",
        "outputId": "b7277e6e-2856-4196-a3bd-84027b6a4b2e"
      },
      "execution_count": null,
      "outputs": [
        {
          "output_type": "stream",
          "name": "stdout",
          "text": [
            "dict_keys(['name', 'age', 'place'])\n",
            "dict_items([('name', 'Shaliha'), ('age', 22), ('place', 'kannur')])\n",
            "my name is Shaliha\n",
            "my age is 22\n",
            "my place is kannur\n"
          ]
        }
      ]
    },
    {
      "cell_type": "code",
      "execution_count": null,
      "metadata": {
        "colab": {
          "base_uri": "https://localhost:8080/"
        },
        "id": "ZYSenY5iy1Oy",
        "outputId": "654602d1-84b4-4dcf-ffb6-b83846bbceca"
      },
      "outputs": [
        {
          "output_type": "stream",
          "name": "stdout",
          "text": [
            "['tomato', 'potato']\n"
          ]
        }
      ],
      "source": [
        "my_groc={'tomato':20,'potato':40,'rice':10,'carrot':15}\n",
        "my_budget=60\n",
        "price=0\n",
        "my_list=[]\n",
        "for a,b in my_groc.items():\n",
        "  if b<my_budget and b+price<=my_budget:\n",
        "      my_list.append(a)\n",
        "      price=b+price\n",
        "print(my_list)\n"
      ]
    },
    {
      "cell_type": "code",
      "source": [
        "for i in range(1,101):\n",
        "  if i%3==0 and i%5==0:\n",
        "    print(i)"
      ],
      "metadata": {
        "colab": {
          "base_uri": "https://localhost:8080/"
        },
        "id": "FUBXzarl4_lZ",
        "outputId": "6715180e-e49d-49e5-a02f-77b26e45f7d9"
      },
      "execution_count": null,
      "outputs": [
        {
          "output_type": "stream",
          "name": "stdout",
          "text": [
            "15\n",
            "30\n",
            "45\n",
            "60\n",
            "75\n",
            "90\n"
          ]
        }
      ]
    },
    {
      "cell_type": "code",
      "source": [
        "a=1\n",
        "while a<10:\n",
        "  print(a)\n",
        "  a=a+2\n",
        "else:\n",
        "  print(\"you crossed the limit\")\n"
      ],
      "metadata": {
        "colab": {
          "base_uri": "https://localhost:8080/"
        },
        "id": "s85b1dQt6IQo",
        "outputId": "67b38551-bd26-4a7c-8d65-863a6097e865"
      },
      "execution_count": null,
      "outputs": [
        {
          "output_type": "stream",
          "name": "stdout",
          "text": [
            "1\n",
            "3\n",
            "5\n",
            "7\n",
            "9\n",
            "you crossed the limit\n"
          ]
        }
      ]
    },
    {
      "cell_type": "code",
      "source": [
        "price=50\n",
        "while price>0:\n",
        "  print(\"you can purchase the pen, the available balance:\",price)\n",
        "  price-=10\n",
        "else:\n",
        "  print(\"there is no balance \")"
      ],
      "metadata": {
        "colab": {
          "base_uri": "https://localhost:8080/"
        },
        "id": "78X2oB-SBE7d",
        "outputId": "6601210d-83f8-4b13-b355-2b8050dbe1d1"
      },
      "execution_count": null,
      "outputs": [
        {
          "output_type": "stream",
          "name": "stdout",
          "text": [
            "you can purchase the pen, the available balance: 50\n",
            "you can purchase the pen, the available balance: 40\n",
            "you can purchase the pen, the available balance: 30\n",
            "you can purchase the pen, the available balance: 20\n",
            "you can purchase the pen, the available balance: 10\n",
            "there is no balance \n"
          ]
        }
      ]
    },
    {
      "cell_type": "code",
      "source": [
        "print(\"nuggets,burger,top\")\n",
        "s={\"nuggets\":40,\"burger\":60,\"top\":120}\n",
        "b=150\n",
        "while b>0:\n",
        "  i=input(\"your choice\")\n",
        "  j=s[i]\n",
        "  b-=int(j)\n",
        "else:\n",
        "  print(\"out of balance\")\n",
        "\n"
      ],
      "metadata": {
        "colab": {
          "base_uri": "https://localhost:8080/"
        },
        "id": "YRtTgFBSPsRg",
        "outputId": "6ce7ec69-9f0f-40b4-e97e-f19312e199ab"
      },
      "execution_count": null,
      "outputs": [
        {
          "output_type": "stream",
          "name": "stdout",
          "text": [
            "nuggets,burger,top\n",
            "your choicetop\n",
            "your choiceburger\n",
            "out of balance\n"
          ]
        }
      ]
    },
    {
      "cell_type": "code",
      "source": [
        "d=10\n",
        "a=int(input(\"guess the number\"))\n",
        "while a!=d:\n",
        "  number=int(input(\"guess the number\"))\n",
        "  a=number\n",
        "else:\n",
        "  print(\"your number is correct\")\n"
      ],
      "metadata": {
        "colab": {
          "base_uri": "https://localhost:8080/"
        },
        "id": "05XBq5NbDLqk",
        "outputId": "5995a1fe-c8e8-41af-b085-9082705cec81"
      },
      "execution_count": null,
      "outputs": [
        {
          "output_type": "stream",
          "name": "stdout",
          "text": [
            "guess the numer6\n",
            "guess the numer4\n",
            "guess the numer10\n",
            "your number is correct\n"
          ]
        }
      ]
    },
    {
      "cell_type": "code",
      "source": [
        "import random\n",
        "secret=random.randint(1,20)\n",
        "a=int(input(\"enter your guess\"))\n",
        "while a!=secret:\n",
        "  a=int(input(\"enter your guess\"))\n",
        "else:\n",
        "  print(\"your guess is correct\")"
      ],
      "metadata": {
        "colab": {
          "base_uri": "https://localhost:8080/"
        },
        "id": "BnvGWA0wHuGU",
        "outputId": "4e12f274-48f0-485e-8a53-60324a8a7d7f"
      },
      "execution_count": null,
      "outputs": [
        {
          "output_type": "stream",
          "name": "stdout",
          "text": [
            "enter your guess14\n",
            "enter your guess18\n",
            "enter your guess2\n",
            "enter your guess8\n",
            "enter your guess6\n",
            "enter your guess15\n",
            "enter your guess1\n",
            "enter your guess7\n",
            "enter your guess3\n",
            "enter your guess17\n",
            "enter your guess5\n",
            "enter your guess20\n",
            "enter your guess11\n",
            "enter your guess19\n",
            "enter your guess12\n",
            "enter your guess16\n",
            "enter your guess4\n",
            "enter your guess9\n",
            "enter your guess10\n",
            "enter your guess13\n",
            "your guess is correct\n"
          ]
        }
      ]
    },
    {
      "cell_type": "code",
      "source": [
        "p=1567\n",
        "c=int(input(\"enter the 4 digit password\"))\n",
        "i=1\n",
        "while c!=p:\n",
        "  print(3-i,\"attempts are left\")\n",
        "  c=int(input(\"enter the 4 digit password\"))\n",
        "  i=i+1\n",
        "  if i==3:\n",
        "    print(\"you dont have other chance\")\n",
        "    break\n",
        "else:\n",
        "  print(\"login sucessful\")\n"
      ],
      "metadata": {
        "colab": {
          "base_uri": "https://localhost:8080/"
        },
        "id": "-ZFO35NnKs4B",
        "outputId": "80895cfc-71fd-4b92-e447-2e3add005c7e"
      },
      "execution_count": null,
      "outputs": [
        {
          "output_type": "stream",
          "name": "stdout",
          "text": [
            "enter the 4 digit password6789\n",
            "2 attempts are left\n",
            "enter the 4 digit password1567\n",
            "login sucessful\n"
          ]
        }
      ]
    },
    {
      "cell_type": "code",
      "source": [
        "di={'kadhal':8,'vettam':9,'kkk':4,'premam':7,'samshayam':5}\n",
        "for a, b in di.items():\n",
        "  print(f\"movie {a} rating is {b}\")\n",
        "  if di[a]==5:\n",
        "    di[a]=9\n",
        "    print(f\"movie {a} rating is updated from 5 to {b}\")\n"
      ],
      "metadata": {
        "id": "WYzH070KO3Ua",
        "colab": {
          "base_uri": "https://localhost:8080/"
        },
        "outputId": "381a1780-7e16-4ac3-e8ed-ba54a3bf58e8"
      },
      "execution_count": null,
      "outputs": [
        {
          "output_type": "stream",
          "name": "stdout",
          "text": [
            "movie kadhal rating is 8\n",
            "movie vettam rating is 9\n",
            "movie kkk rating is 4\n",
            "movie premam rating is 7\n",
            "movie samshayam rating is 5\n",
            "movie samshayam rating is updated from 5 to 5\n"
          ]
        }
      ]
    },
    {
      "cell_type": "code",
      "source": [
        "di.update({'mm':7,'bramayugam':10})\n",
        "for a, b in di.items():\n",
        "  print(f\"movie {a} rating is {b}\")"
      ],
      "metadata": {
        "colab": {
          "base_uri": "https://localhost:8080/"
        },
        "id": "y0EMvmdBesBS",
        "outputId": "036c0af6-688e-4906-e18c-3a35048f9126"
      },
      "execution_count": null,
      "outputs": [
        {
          "output_type": "stream",
          "name": "stdout",
          "text": [
            "movie kadhal rating is 8\n",
            "movie vettam rating is 9\n",
            "movie kkk rating is 4\n",
            "movie premam rating is 7\n",
            "movie samshayam rating is 9\n",
            "movie mm rating is 7\n",
            "movie bramayugam rating is 10\n"
          ]
        }
      ]
    },
    {
      "cell_type": "code",
      "source": [
        "h=di['kadhal']\n",
        "for a,b in di.items():\n",
        "  if h<di[a]:\n",
        "    h=di[a]\n",
        "    m=a\n",
        "print(f\"movie {m} have highest rating {h}\")"
      ],
      "metadata": {
        "colab": {
          "base_uri": "https://localhost:8080/"
        },
        "id": "hO1h17DNfzF8",
        "outputId": "cbcad6cc-6c82-46f4-cdde-a0d22d351bce"
      },
      "execution_count": null,
      "outputs": [
        {
          "output_type": "stream",
          "name": "stdout",
          "text": [
            "movie bramayugam have highest rating 10\n"
          ]
        }
      ]
    },
    {
      "cell_type": "code",
      "source": [
        "for a,b in di.items():\n",
        "  if di[a]<5:\n",
        "    di.pop(a)\n",
        "print(di.items())"
      ],
      "metadata": {
        "colab": {
          "base_uri": "https://localhost:8080/"
        },
        "id": "U2r1GdtEiryS",
        "outputId": "4af8e39c-3edf-495b-ef37-fac8a7a70a42"
      },
      "execution_count": null,
      "outputs": [
        {
          "output_type": "stream",
          "name": "stdout",
          "text": [
            "dict_items([('kadhal', 8), ('vettam', 9), ('premam', 7), ('samshayam', 9), ('mm', 7), ('bramayugam', 10)])\n"
          ]
        }
      ]
    },
    {
      "cell_type": "markdown",
      "source": [
        "functions"
      ],
      "metadata": {
        "id": "j599tiOHwaL_"
      }
    },
    {
      "cell_type": "code",
      "source": [
        "'''def function():\n",
        "  function body\n",
        "def function():\n",
        "  pass\n",
        "paas using for there is no function body'''"
      ],
      "metadata": {
        "id": "1R7UktfhB1lT"
      },
      "execution_count": null,
      "outputs": []
    },
    {
      "cell_type": "code",
      "source": [
        "def greet(name,time):\n",
        "  print(f\"Hello {name}, welcome to the program\")\n",
        "  print(f\"your session will start at {time}\")\n",
        "greet('anandu','3 pm')"
      ],
      "metadata": {
        "colab": {
          "base_uri": "https://localhost:8080/"
        },
        "id": "0m33adPZwbwe",
        "outputId": "1c1462c8-356e-4e5e-9832-d9d3c7bdd98a"
      },
      "execution_count": null,
      "outputs": [
        {
          "output_type": "stream",
          "name": "stdout",
          "text": [
            "Hello anandu, welcome to the program\n",
            "your session will start at 3 pm\n"
          ]
        }
      ]
    },
    {
      "cell_type": "code",
      "source": [
        "def greet(name,time='11 pm'):#setting default  values\n",
        "  print(f\"Hello {name}, welcome to the program\")\n",
        "  print(f\"your session will start at {time}\")\n",
        "greet('anandu','3 pm')\n",
        "greet('maya')"
      ],
      "metadata": {
        "colab": {
          "base_uri": "https://localhost:8080/"
        },
        "id": "dnHltVeAxALE",
        "outputId": "0bb4cee1-cfe1-4a5b-81df-b2db69509dc3"
      },
      "execution_count": null,
      "outputs": [
        {
          "output_type": "stream",
          "name": "stdout",
          "text": [
            "Hello anandu, welcome to the program\n",
            "your session will start at 3 pm\n",
            "Hello maya, welcome to the program\n",
            "your session will start at 11 pm\n"
          ]
        }
      ]
    },
    {
      "cell_type": "code",
      "source": [
        "a=int(input(\"enter 1st number\"))\n",
        "b=int(input(\"enter 2nd number\"))\n",
        "def product(a,b):\n",
        "  print(f\"product of {a} and {b} is\", a*b)\n",
        "product(a,b)"
      ],
      "metadata": {
        "colab": {
          "base_uri": "https://localhost:8080/"
        },
        "id": "Teubv9Zqxv9w",
        "outputId": "fa43b5df-c73f-4978-b95b-9ef5c070a2ab"
      },
      "execution_count": null,
      "outputs": [
        {
          "output_type": "stream",
          "name": "stdout",
          "text": [
            "enter 1st number2\n",
            "enter 2nd number3\n",
            "product of 2 and 3 is 6\n"
          ]
        }
      ]
    },
    {
      "cell_type": "code",
      "source": [
        "def bill(amount):\n",
        "  bill_amount=amount+0.1*amount\n",
        "  print(\"please pay \",bill_amount)\n",
        "t=int(input(\"total amount\"))\n",
        "bill(t)"
      ],
      "metadata": {
        "colab": {
          "base_uri": "https://localhost:8080/"
        },
        "id": "PTlNo73xy8oe",
        "outputId": "13e09d16-215c-4742-889d-d32216cfebc9"
      },
      "execution_count": null,
      "outputs": [
        {
          "output_type": "stream",
          "name": "stdout",
          "text": [
            "total amount1200\n",
            "please pay  1320.0\n"
          ]
        }
      ]
    },
    {
      "cell_type": "code",
      "source": [
        "def bill(amount):\n",
        "  if amount>=1000:\n",
        "    bill_amount1=amount+0.2*amount\n",
        "    print(\"please pay \",bill_amount1)\n",
        "  elif amount>=500 and amount<1000:\n",
        "    bill_amount2=amount+0.15*bill_amount\n",
        "    print(\"please pay \",bill_amount2)\n",
        "  else:\n",
        "    bill_amount2=amount+0.1*amount\n",
        "    print(\"please pay \",bill_amount2)\n",
        "t=int(input(\"total amount\"))\n",
        "bill(t)"
      ],
      "metadata": {
        "colab": {
          "base_uri": "https://localhost:8080/"
        },
        "id": "wLSQ9Mh-2xS9",
        "outputId": "28b512bf-7a0a-4a80-806c-63abc4834d99"
      },
      "execution_count": null,
      "outputs": [
        {
          "output_type": "stream",
          "name": "stdout",
          "text": [
            "total amount1000\n",
            "please pay  1200.0\n"
          ]
        }
      ]
    },
    {
      "cell_type": "code",
      "source": [
        "num_list=[12,13,15,16,19,10]\n",
        "def average_even(numberlist):\n",
        "  even_list=[]\n",
        "  for i in num_list:\n",
        "    if i%2==0:\n",
        "      even_list.append(i)\n",
        "  average=sum(even_list)/len(even_list)\n",
        "  print(even_list)\n",
        "  print(average)\n",
        "average_even(num_list)"
      ],
      "metadata": {
        "colab": {
          "base_uri": "https://localhost:8080/"
        },
        "id": "5yB_1j4M4T7I",
        "outputId": "f2627f14-7885-4c00-a05b-cfe68eef5fbe"
      },
      "execution_count": null,
      "outputs": [
        {
          "output_type": "stream",
          "name": "stdout",
          "text": [
            "[12, 16, 10]\n",
            "12.666666666666666\n"
          ]
        }
      ]
    },
    {
      "cell_type": "code",
      "source": [
        "num_list=[12,13,15,16,19,10]\n",
        "def average_even(numberlist):\n",
        "  even_list=[]\n",
        "  odd_list=[]\n",
        "  for i in num_list:\n",
        "    if i%2==0:\n",
        "      even_list.append(i)\n",
        "    else:\n",
        "      odd_list.append(i)\n",
        "  average=sum(even_list)/len(even_list)\n",
        "  average2=sum(odd_list)/len(odd_list)\n",
        "  print(\"even numbers are\",even_list)\n",
        "  print(\"odd numbers are\",odd_list)\n",
        "  print(\"for even number average is\",average)\n",
        "  print(\"for odd number average is\",average2)\n",
        "average_even(num_list)"
      ],
      "metadata": {
        "colab": {
          "base_uri": "https://localhost:8080/"
        },
        "id": "S7CFufJz9Rbs",
        "outputId": "c400df0a-c217-4abd-bfc3-ce1aa8930e2a"
      },
      "execution_count": null,
      "outputs": [
        {
          "output_type": "stream",
          "name": "stdout",
          "text": [
            "even numbers are [12, 16, 10]\n",
            "odd numbers are [13, 15, 19]\n",
            "for even number average is 12.666666666666666\n",
            "for odd number average is 15.666666666666666\n"
          ]
        }
      ]
    },
    {
      "cell_type": "code",
      "source": [
        "def sum_numbers(*args):\n",
        "  print(type(args))\n",
        "  total=0\n",
        "  for i in args:\n",
        "    total+=i\n",
        "  print(total)\n",
        "sum_numbers(2,3,5,9,12,67)"
      ],
      "metadata": {
        "colab": {
          "base_uri": "https://localhost:8080/"
        },
        "id": "e3njV7gc-4DD",
        "outputId": "8ef9c27e-7257-40df-9452-77d32ab11247"
      },
      "execution_count": null,
      "outputs": [
        {
          "output_type": "stream",
          "name": "stdout",
          "text": [
            "<class 'tuple'>\n",
            "98\n"
          ]
        }
      ]
    },
    {
      "cell_type": "code",
      "source": [
        "def type_arg(**args):\n",
        "  print(type(args))\n",
        "type_arg()"
      ],
      "metadata": {
        "colab": {
          "base_uri": "https://localhost:8080/"
        },
        "id": "nJtaiu5RAKzw",
        "outputId": "6d1c7ea6-60e6-4ca5-ff32-e01b2c0e0f60"
      },
      "execution_count": null,
      "outputs": [
        {
          "output_type": "stream",
          "name": "stdout",
          "text": [
            "<class 'dict'>\n"
          ]
        }
      ]
    },
    {
      "cell_type": "code",
      "source": [
        "def print_info(**args):\n",
        "  for a,b in args.items():\n",
        "    print(f\"{a} is {b}\")\n",
        "print_info(name=\"Shaliha\",place=\"kannur\",score=7)\n",
        "print_info(batch=\"DSA\",students=33,start_date=\"july 21\")"
      ],
      "metadata": {
        "colab": {
          "base_uri": "https://localhost:8080/"
        },
        "id": "ge16rNZqAr8D",
        "outputId": "b45db273-8426-44d1-e541-2fa07780c5b1"
      },
      "execution_count": null,
      "outputs": [
        {
          "output_type": "stream",
          "name": "stdout",
          "text": [
            "name is Shaliha\n",
            "place is kannur\n",
            "score is 7\n",
            "batch is DSA\n",
            "students is 33\n",
            "start_date is july 21\n"
          ]
        }
      ]
    },
    {
      "cell_type": "code",
      "source": [
        "def Totalmark(marks):\n",
        "  return (sum(marks))\n",
        "Finalscore =Totalmark([10,20,30,15])\n",
        "if Finalscore>50:\n",
        "  print(\"pass\")\n",
        "else:\n",
        "   print(\"fail\")"
      ],
      "metadata": {
        "colab": {
          "base_uri": "https://localhost:8080/"
        },
        "id": "2-tPg2UvMdN7",
        "outputId": "6c0c78c9-d32f-482c-ac7a-f56dc0a46503"
      },
      "execution_count": null,
      "outputs": [
        {
          "output_type": "stream",
          "name": "stdout",
          "text": [
            "pass\n"
          ]
        }
      ]
    },
    {
      "cell_type": "markdown",
      "source": [
        "lambda function"
      ],
      "metadata": {
        "id": "ktzStFaKLgdT"
      }
    },
    {
      "cell_type": "code",
      "source": [
        "square= lambda x :x*x\n",
        "square(5)"
      ],
      "metadata": {
        "colab": {
          "base_uri": "https://localhost:8080/"
        },
        "id": "9glEtcBICzL_",
        "outputId": "adf74e80-87ac-4c33-f1a0-c324a3ad9b34"
      },
      "execution_count": null,
      "outputs": [
        {
          "output_type": "execute_result",
          "data": {
            "text/plain": [
              "25"
            ]
          },
          "metadata": {},
          "execution_count": 50
        }
      ]
    },
    {
      "cell_type": "code",
      "source": [
        "add= lambda x,y :x+y\n",
        "add(3,5)"
      ],
      "metadata": {
        "colab": {
          "base_uri": "https://localhost:8080/"
        },
        "id": "MD7YmSs5LwBb",
        "outputId": "1dc25cd1-a413-46f9-9265-d45a24e341a5"
      },
      "execution_count": null,
      "outputs": [
        {
          "output_type": "execute_result",
          "data": {
            "text/plain": [
              "8"
            ]
          },
          "metadata": {},
          "execution_count": 51
        }
      ]
    },
    {
      "cell_type": "markdown",
      "source": [
        "objective orienting programing(oops)"
      ],
      "metadata": {
        "id": "0RaMfu0dPeGl"
      }
    },
    {
      "cell_type": "markdown",
      "source": [
        "\n",
        "\n",
        "\n",
        "*   class- blue print.includes attributes/features(variables) and method/actions(functions)\n",
        "*   object/instance-\n",
        "\n",
        "*   inheritance\n",
        "*   polymorphism\n",
        "\n",
        "*   encapsulation\n",
        "*   abstraction\n",
        "\n",
        "\n",
        "\n",
        "\n",
        "\n",
        "\n",
        "\n"
      ],
      "metadata": {
        "id": "IFp9RXvWPvFp"
      }
    },
    {
      "cell_type": "code",
      "source": [
        "class Animal:\n",
        "  animal_type = \"Dog\"\n",
        "  num_legs =4\n",
        "  mammal =\"yes\"\n",
        "  def sound(self):#self differentiating the objects\n",
        "    print(\"Animal barks\")\n",
        "obj=Animal()#object creation for accesing attributes and functions in class\n",
        "obj.sound()\n",
        "obj.animal_type\n"
      ],
      "metadata": {
        "colab": {
          "base_uri": "https://localhost:8080/",
          "height": 53
        },
        "id": "DteenzQGPNe3",
        "outputId": "508fbf64-623a-4e97-976f-91bf51bb4fee"
      },
      "execution_count": null,
      "outputs": [
        {
          "output_type": "stream",
          "name": "stdout",
          "text": [
            "Animal barks\n"
          ]
        },
        {
          "output_type": "execute_result",
          "data": {
            "text/plain": [
              "'Dog'"
            ],
            "application/vnd.google.colaboratory.intrinsic+json": {
              "type": "string"
            }
          },
          "metadata": {},
          "execution_count": 57
        }
      ]
    },
    {
      "cell_type": "code",
      "source": [
        "class person:\n",
        "  place=\"TVM\"\n",
        "  def __init__(self,name,age):\n",
        "    self.name=name\n",
        "    self.age=age\n",
        "  def greet(self):\n",
        "    return f\"Hi myself {self.name} and my age is {self.age} i am from {self.place}\"\n",
        "obj1=person('shaliha',22)\n",
        "obj1.greet()"
      ],
      "metadata": {
        "colab": {
          "base_uri": "https://localhost:8080/",
          "height": 36
        },
        "id": "MIqUFhEnULuq",
        "outputId": "ce38472e-e809-41a3-a7b4-2874c54b5b47"
      },
      "execution_count": null,
      "outputs": [
        {
          "output_type": "execute_result",
          "data": {
            "text/plain": [
              "'Hi myself shaliha and my age is 22 i am from TVM'"
            ],
            "application/vnd.google.colaboratory.intrinsic+json": {
              "type": "string"
            }
          },
          "metadata": {},
          "execution_count": 62
        }
      ]
    },
    {
      "cell_type": "markdown",
      "source": [
        "derived class (inheritance)"
      ],
      "metadata": {
        "id": "BUdh-q1bYzPc"
      }
    },
    {
      "cell_type": "code",
      "source": [
        "class Employee:\n",
        "  def __init__(self,name,emp_id,salary):\n",
        "    self.name=name\n",
        "    self.emp_id=emp_id\n",
        "    self.salary=salary\n",
        "  def display_info(self):\n",
        "    print(f\"Name:{self.name}\")\n",
        "    print(f\"Employee_id:{self.emp_id}\")\n",
        "    print(f\"salary:{self.salary}\")\n",
        "class Manager(Employee):\n",
        "  def __init__(self,name,emp_id,salary,department,teamsize):\n",
        "    super().__init__(name,emp_id,salary)#super used for call available features in parent class here employee\n",
        "    self.department=department\n",
        "    self.teamsize=teamsize\n",
        "  def display_manager_info(self):\n",
        "    self.display_info()\n",
        "    print(f\"Department:{self.department}\")\n",
        "    print(f\"Team Size:{self.teamsize}\")\n",
        "class team_lead(Manager):\n",
        "  def __init__(self,name,emp_id,salary,department,teamsize,experiance):\n",
        "    super().__init__(name,emp_id,salary,department,teamsize)\n",
        "    self.experiance=experiance\n",
        "  def display_team_info(self):\n",
        "    self.display_manager_info()\n",
        "    print(f\"Experiance:{self.experiance}\")\n",
        "\n",
        "#obj=Employee('shaliha',1567,100000)\n",
        "#obj.display_info()\n",
        "#man1=Manager('shaliha',1567,100000,'maths',4)\n",
        "#man1.display_manager_info()\n",
        "lead=team_lead('shaliha',1567,100000,'maths',4,3)\n",
        "lead.display_team_info()"
      ],
      "metadata": {
        "colab": {
          "base_uri": "https://localhost:8080/"
        },
        "id": "u5HJ8GhIXP1s",
        "outputId": "d065d0c1-bab6-41c7-910d-c7f550d0f5d7"
      },
      "execution_count": null,
      "outputs": [
        {
          "output_type": "stream",
          "name": "stdout",
          "text": [
            "Name:shaliha\n",
            "Employee_id:1567\n",
            "salary:100000\n",
            "Department:maths\n",
            "Team Size:4\n",
            "Experiance:3\n"
          ]
        }
      ]
    },
    {
      "cell_type": "markdown",
      "source": [
        "Coding Best Practice"
      ],
      "metadata": {
        "id": "DB4VJhIyM8MY"
      }
    },
    {
      "cell_type": "code",
      "source": [
        "first_value=10\n",
        "second_value=20\n",
        "third_value=9"
      ],
      "metadata": {
        "id": "1uu3VGh8TqE2"
      },
      "execution_count": null,
      "outputs": []
    },
    {
      "cell_type": "markdown",
      "source": [
        "Maximum Line Length\n",
        "\n",
        "*   Keep code lines ≤ 79 characters.\n",
        "*   Keep comments and docstrings ≤ 72 characters.\n",
        "*   Best way: use parentheses, brackets, or braces for automatic line continuation.\n",
        "*   Avoid using the backslash for continuation — it’s harder to read and easier to break.\n",
        "Backslashes were sometimes needed before Python 3.10 in special cases (e.g., multiple with statements), but now parentheses usually work.\n",
        "\n",
        "\n",
        "\n"
      ],
      "metadata": {
        "id": "bbH8eI8Bbiom"
      }
    },
    {
      "cell_type": "code",
      "source": [
        "result = first_value + second_value - third_value"
      ],
      "metadata": {
        "id": "3h8Wwto8bWHY"
      },
      "execution_count": null,
      "outputs": []
    },
    {
      "cell_type": "code",
      "source": [
        "# Wrapping with a backslash\n",
        "result = first_value \\\n",
        "         + second_value \\\n",
        "         - third_value\n"
      ],
      "metadata": {
        "id": "4SJCzdc5Xt3V"
      },
      "execution_count": null,
      "outputs": []
    },
    {
      "cell_type": "code",
      "source": [
        "result = (\n",
        "    first_value\n",
        "    + second_value\n",
        "    - third_value\n",
        ")\n"
      ],
      "metadata": {
        "id": "InoQZQGSS4G_"
      },
      "execution_count": null,
      "outputs": []
    },
    {
      "cell_type": "markdown",
      "source": [
        "Should a Line Break Before or After a Binary Operator?\n",
        "\n",
        "*   Breaking lines before binary operators improves readability by keeping each operator close to its operand and aligning them vertically.\n",
        "\n"
      ],
      "metadata": {
        "id": "w2eRJETKcGUx"
      }
    },
    {
      "cell_type": "code",
      "source": [
        "# Wrong:\n",
        "# operators sit far away from their operands\n",
        "income = (gross_wages +\n",
        "          taxable_interest +\n",
        "          (dividends - qualified_dividends) -\n",
        "          ira_deduction -\n",
        "          student_loan_interest)"
      ],
      "metadata": {
        "id": "6vfEnV9AcG7j"
      },
      "execution_count": null,
      "outputs": []
    },
    {
      "cell_type": "code",
      "source": [
        "# Correct:\n",
        "# easy to match operators with operands\n",
        "income = (gross_wages\n",
        "          + taxable_interest\n",
        "          + (dividends - qualified_dividends)\n",
        "          - ira_deduction\n",
        "          - student_loan_interest)"
      ],
      "metadata": {
        "id": "IoMwvLmNcLK4"
      },
      "execution_count": null,
      "outputs": []
    },
    {
      "cell_type": "markdown",
      "source": [
        "Blank Lines\n",
        "\n",
        "*   Two blank lines for separating top-level definitions (def, class).\n",
        "*   One blank line between methods inside a class.\n",
        "*   Use blank lines inside functions sparingly to indicate separate logical blocks.\n",
        "*   Avoid unnecessary blank lines, especially between related one-liners—in short, prioritize readability and consistency.\n",
        "\n",
        "\n"
      ],
      "metadata": {
        "id": "XANE1Zxddy4c"
      }
    },
    {
      "cell_type": "code",
      "source": [
        "# Good: Two blank lines around top-level defs\n",
        "import os\n",
        "\n",
        "\n",
        "def top_function():\n",
        "    pass\n",
        "\n",
        "\n",
        "class MyClass:\n",
        "    def method_one(self):\n",
        "        pass\n",
        "\n",
        "    def method_two(self):\n",
        "        pass\n",
        "\n",
        "\n",
        "def another_function():\n",
        "    pass\n"
      ],
      "metadata": {
        "id": "ujquASaWeWSe"
      },
      "execution_count": null,
      "outputs": []
    },
    {
      "cell_type": "markdown",
      "source": [
        "When to Use Trailing Commas\n",
        "\n",
        "*   Mandatory for a tuple with only one element:\n",
        "*   Optional but Recommended in multi-line structures:Lists, tuples, dicts, function calls Makes adding/removing items easier Keeps version control diffs cleaner\n",
        "\n"
      ],
      "metadata": {
        "id": "jlR2VaTAgCvV"
      }
    },
    {
      "cell_type": "code",
      "source": [
        "# Correct:\n",
        "FILES = ('setup.cfg',)\n",
        "# Correct:\n",
        "FILES = ('setup.cfg',)"
      ],
      "metadata": {
        "id": "jo4mJkh-j2Ge"
      },
      "execution_count": null,
      "outputs": []
    },
    {
      "cell_type": "code",
      "source": [
        "# Correct:\n",
        "FILES = [\n",
        "    'setup.cfg',\n",
        "    'tox.ini',\n",
        "    ]\n",
        "initialize(FILES,\n",
        "           error=True,\n",
        "           )"
      ],
      "metadata": {
        "id": "xIDjtrotj7rf"
      },
      "execution_count": null,
      "outputs": []
    },
    {
      "cell_type": "code",
      "source": [
        "# Wrong:\n",
        "FILES = ['setup.cfg', 'tox.ini',]\n",
        "initialize(FILES, error=True,)"
      ],
      "metadata": {
        "id": "U8n0xQ-jkXJE"
      },
      "execution_count": null,
      "outputs": []
    },
    {
      "cell_type": "code",
      "source": [
        "\"\"\"even and odd number\n",
        "  using function\"\"\"\n",
        "import os\n",
        "import matplotlib.pyplot as plt\n",
        "import sys\n",
        "__version__='0.1'\n",
        "def check_even_odd(numbers):\n",
        "    for num in numbers:\n",
        "        if num% 2== 0:\n",
        "            print(f\"{num} is Even\")\n",
        "        else:\n",
        "            print(f\"{num} is Odd\")\n",
        "\n",
        "# Example list of numbers\n",
        "number_list = [1, 2,\n",
        "          3, 4, 5, 6, 7, 8, 9, 10]\n",
        "\n",
        "# Call the function\n",
        "check_even_odd(number_list)"
      ],
      "metadata": {
        "id": "eu-DrDHWmMat",
        "colab": {
          "base_uri": "https://localhost:8080/"
        },
        "outputId": "f03a9550-55ab-4942-cd8e-2cb891914231"
      },
      "execution_count": null,
      "outputs": [
        {
          "output_type": "stream",
          "name": "stdout",
          "text": [
            "1 is Odd\n",
            "2 is Even\n",
            "3 is Odd\n",
            "4 is Even\n",
            "5 is Odd\n",
            "6 is Even\n",
            "7 is Odd\n",
            "8 is Even\n",
            "9 is Odd\n",
            "10 is Even\n"
          ]
        }
      ]
    },
    {
      "cell_type": "markdown",
      "source": [
        "Statistics"
      ],
      "metadata": {
        "id": "NI9l_K6axWcR"
      }
    },
    {
      "cell_type": "code",
      "source": [
        "data=[5,8,2,7,3,8,10,10]\n",
        "data.sort()\n",
        "m = 0\n",
        "for i in data:\n",
        "   m+= i\n",
        "mean = m / len(data)\n",
        "print(mean)"
      ],
      "metadata": {
        "colab": {
          "base_uri": "https://localhost:8080/"
        },
        "id": "o5mIrAyRw_C0",
        "outputId": "eadc1736-727a-4155-d5d9-a34f9072cdda"
      },
      "execution_count": null,
      "outputs": [
        {
          "output_type": "stream",
          "name": "stdout",
          "text": [
            "6.625\n"
          ]
        }
      ]
    },
    {
      "cell_type": "code",
      "source": [
        "l=len(data)\n",
        "if l%2!=0:\n",
        "  mid = l//2\n",
        "  print(f\"median=\",data[mid])\n",
        "else:\n",
        "  mid= l//2\n",
        "  median = (data[mid-1] + data[mid])/2\n",
        "  print(\"median=\", median)"
      ],
      "metadata": {
        "colab": {
          "base_uri": "https://localhost:8080/"
        },
        "id": "yZB6pWokzxuA",
        "outputId": "dc74ad0c-15db-4026-ceb2-18aeda9c89de"
      },
      "execution_count": null,
      "outputs": [
        {
          "output_type": "stream",
          "name": "stdout",
          "text": [
            "median= 7\n"
          ]
        }
      ]
    },
    {
      "cell_type": "code",
      "source": [],
      "metadata": {
        "id": "0qW1DCZYDKbb"
      },
      "execution_count": null,
      "outputs": []
    },
    {
      "cell_type": "code",
      "source": [
        "count={}\n",
        "for i in data:\n",
        "  if i in count:\n",
        "    count[i]+=1\n",
        "  else:\n",
        "    count[i]=1\n",
        "\n",
        "print(count)\n",
        "\n",
        "mode = None\n",
        "max_count = 0\n",
        "\n",
        "\"\"\"for key, value in count.items():\n",
        "  if value >= max_count:\n",
        "    max_count = value\n",
        "    mode = key\"\"\"\n",
        "max_count = max(count.values())\n",
        "modes = [key for key, value in count.items() if value == max_count]\n",
        "print(\"Modes:\", modes)"
      ],
      "metadata": {
        "colab": {
          "base_uri": "https://localhost:8080/"
        },
        "id": "Sg8KnMIk1IjZ",
        "outputId": "b45cf578-1415-4ced-fd25-6e29bab75748"
      },
      "execution_count": null,
      "outputs": [
        {
          "output_type": "stream",
          "name": "stdout",
          "text": [
            "{2: 1, 3: 1, 5: 1, 7: 1, 8: 2, 10: 2}\n",
            "Modes: [8, 10]\n"
          ]
        }
      ]
    },
    {
      "cell_type": "code",
      "source": [
        "score=[78,85,95,50,88,45,82,91,75,60]\n",
        "score.sort()\n",
        "m = 0\n",
        "for i in score:\n",
        "   m+= i\n",
        "mean = m / len(score)\n",
        "print(mean)"
      ],
      "metadata": {
        "colab": {
          "base_uri": "https://localhost:8080/"
        },
        "id": "gR3Ozj0hByJ8",
        "outputId": "b698c882-c831-4715-8742-e5a603f503a5"
      },
      "execution_count": null,
      "outputs": [
        {
          "output_type": "stream",
          "name": "stdout",
          "text": [
            "74.9\n"
          ]
        }
      ]
    },
    {
      "cell_type": "code",
      "source": [
        "l=len(score)\n",
        "if l%2!=0:\n",
        "  mid = l//2\n",
        "  print(f\"median=\",score[mid])\n",
        "else:\n",
        "  mid= l//2\n",
        "  median = (score[mid-1] + score[mid])/2\n",
        "  print(\"median=\", median)"
      ],
      "metadata": {
        "colab": {
          "base_uri": "https://localhost:8080/"
        },
        "id": "e5gC2EhrCkvQ",
        "outputId": "2aed976a-2bbb-4f92-cd98-00df9659b031"
      },
      "execution_count": null,
      "outputs": [
        {
          "output_type": "stream",
          "name": "stdout",
          "text": [
            "median= 80.0\n"
          ]
        }
      ]
    },
    {
      "cell_type": "code",
      "source": [
        "count={}\n",
        "for i in score:\n",
        "  if i in count:\n",
        "    count[i]+=1\n",
        "  else:\n",
        "    count[i]=1\n",
        "\n",
        "print(count)\n",
        "\n",
        "mode = None\n",
        "max_count = max(count.values())\n",
        "modes = [key for key, value in count.items() if value == max_count]\n",
        "print(\"Modes:\", modes)"
      ],
      "metadata": {
        "colab": {
          "base_uri": "https://localhost:8080/"
        },
        "id": "1hyzsPcyEr3n",
        "outputId": "64d9600d-2648-4f90-d255-12bd627c01e3"
      },
      "execution_count": null,
      "outputs": [
        {
          "output_type": "stream",
          "name": "stdout",
          "text": [
            "{45: 1, 50: 1, 60: 1, 75: 1, 78: 1, 82: 1, 85: 1, 88: 1, 91: 1, 95: 1}\n",
            "Modes: [45, 50, 60, 75, 78, 82, 85, 88, 91, 95]\n"
          ]
        }
      ]
    },
    {
      "cell_type": "code",
      "source": [
        "v=0\n",
        "for i in score:\n",
        "  v+=((i-mean)**2)\n",
        "variance=v/len(score)\n",
        "print(\"variance=\",variance)\n",
        "s_d=variance**(1/2)\n",
        "print(\"standard deviation=\",s_d)"
      ],
      "metadata": {
        "colab": {
          "base_uri": "https://localhost:8080/"
        },
        "id": "tUtYudJ_E_ck",
        "outputId": "d588ae6a-7c0b-4d8e-b4e4-d900b288f6d2"
      },
      "execution_count": null,
      "outputs": [
        {
          "output_type": "stream",
          "name": "stdout",
          "text": [
            "variance= 273.29\n",
            "standard deviation= 16.53148511174964\n"
          ]
        }
      ]
    },
    {
      "cell_type": "code",
      "source": [
        "print(type(score))"
      ],
      "metadata": {
        "colab": {
          "base_uri": "https://localhost:8080/"
        },
        "id": "uB0j0WOvLI3G",
        "outputId": "51faf3ed-363d-4de3-b99f-f2064e0e8e7c"
      },
      "execution_count": null,
      "outputs": [
        {
          "output_type": "stream",
          "name": "stdout",
          "text": [
            "<class 'list'>\n"
          ]
        }
      ]
    },
    {
      "cell_type": "code",
      "source": [
        "score = [78, 85, 95, 50, 88, 45, 82, 91, 75, 60]\n",
        "data_range = max(score) - min(score)\n",
        "print(\"Range:\", data_range)\n"
      ],
      "metadata": {
        "colab": {
          "base_uri": "https://localhost:8080/"
        },
        "id": "koqB-FclHjvH",
        "outputId": "998f4913-2f20-48e1-d7f7-f8aa29184363"
      },
      "execution_count": null,
      "outputs": [
        {
          "output_type": "stream",
          "name": "stdout",
          "text": [
            "Range: 50\n"
          ]
        }
      ]
    },
    {
      "cell_type": "code",
      "source": [
        "rainfall_mm = [85,60,72,55,105,315,380,220,190,130,95,70]"
      ],
      "metadata": {
        "id": "fNub63N6I9Ci"
      },
      "execution_count": null,
      "outputs": []
    },
    {
      "cell_type": "code",
      "source": [
        "rainfall_mm.sort()\n",
        "print(rainfall_mm)"
      ],
      "metadata": {
        "colab": {
          "base_uri": "https://localhost:8080/"
        },
        "id": "RpCRkNf9JcKd",
        "outputId": "683169b8-df7c-4e4e-81f2-cdfb7d72c1ab"
      },
      "execution_count": null,
      "outputs": [
        {
          "output_type": "stream",
          "name": "stdout",
          "text": [
            "[55, 60, 70, 72, 85, 95, 105, 130, 190, 220, 315, 380]\n"
          ]
        }
      ]
    },
    {
      "cell_type": "code",
      "source": [
        "l=len(rainfall_mm)\n",
        "Q1=rainfall_mm[int(0.25*l)-1]\n",
        "print(\"Q1=\",Q1)"
      ],
      "metadata": {
        "colab": {
          "base_uri": "https://localhost:8080/"
        },
        "id": "0A15o112Jl-e",
        "outputId": "dea8b336-6937-4f58-ba24-df56c3fc8497"
      },
      "execution_count": null,
      "outputs": [
        {
          "output_type": "stream",
          "name": "stdout",
          "text": [
            "Q1= 70\n"
          ]
        }
      ]
    },
    {
      "cell_type": "code",
      "source": [
        "Q2=rainfall_mm[int(0.5*l)-1]\n",
        "Q3=rainfall_mm[int(0.75*l)-1]\n",
        "print(f\"Q2=\",Q2 ,\"Q3=\",Q3)"
      ],
      "metadata": {
        "colab": {
          "base_uri": "https://localhost:8080/"
        },
        "id": "cmfb3US2KM4A",
        "outputId": "34d77811-a3c5-4d85-d794-f4d457785953"
      },
      "execution_count": null,
      "outputs": [
        {
          "output_type": "stream",
          "name": "stdout",
          "text": [
            "Q2= 105 Q3= 190\n"
          ]
        }
      ]
    },
    {
      "cell_type": "code",
      "source": [
        "IQR = Q3 -Q1\n",
        "print(\"IQR=\",IQR)"
      ],
      "metadata": {
        "colab": {
          "base_uri": "https://localhost:8080/"
        },
        "id": "ppJL-v1hKnuD",
        "outputId": "47f40910-475d-4fc0-fa5c-48581b915479"
      },
      "execution_count": null,
      "outputs": [
        {
          "output_type": "stream",
          "name": "stdout",
          "text": [
            "IQR= 120\n"
          ]
        }
      ]
    },
    {
      "cell_type": "code",
      "source": [
        "upper_limit=Q3+1.5*IQR\n",
        "lower_limit=Q1-IQR*1.5\n",
        "print(\"upper limit=\",upper_limit)\n",
        "print(\"lower_limit=\",lower_limit)"
      ],
      "metadata": {
        "colab": {
          "base_uri": "https://localhost:8080/"
        },
        "id": "jpLURdaoKzcM",
        "outputId": "6d5111b5-0493-4953-df9e-78c467e9fce1"
      },
      "execution_count": null,
      "outputs": [
        {
          "output_type": "stream",
          "name": "stdout",
          "text": [
            "upper limit= 370.0\n",
            "lower_limit= -110.0\n"
          ]
        }
      ]
    },
    {
      "cell_type": "code",
      "source": [
        "outliers=[]\n",
        "for i in rainfall_mm:\n",
        "  if i>upper_limit or i<lower_limit:\n",
        "    outliers.append(i)\n",
        "print(\"outliers=\",outliers)"
      ],
      "metadata": {
        "colab": {
          "base_uri": "https://localhost:8080/"
        },
        "id": "uV6489rdNbl3",
        "outputId": "2574fa0a-e9e9-4500-f005-677eade4088e"
      },
      "execution_count": null,
      "outputs": [
        {
          "output_type": "stream",
          "name": "stdout",
          "text": [
            "outliers= [380]\n"
          ]
        }
      ]
    },
    {
      "cell_type": "code",
      "source": [
        "sales = [200,220,210,300,250,400,240,260,500,230]\n",
        "ad_spend = [50,55,52,80,60,100,58,65,120,54]\n",
        "def mean(x):\n",
        "  m = 0\n",
        "  for i in x:\n",
        "    m+= i\n",
        "  mean = m / len(x)\n",
        "  return mean\n",
        "print(f\"mean of sale=\",mean(sales))\n",
        "print(\"mean of spend=\",mean(ad_spend))"
      ],
      "metadata": {
        "colab": {
          "base_uri": "https://localhost:8080/"
        },
        "id": "DBGoERdmOvLh",
        "outputId": "95c48d81-70e0-4728-f050-27d549106e10"
      },
      "execution_count": null,
      "outputs": [
        {
          "output_type": "stream",
          "name": "stdout",
          "text": [
            "mean of sale= 281.0\n",
            "mean of spend= 69.4\n"
          ]
        }
      ]
    },
    {
      "cell_type": "code",
      "source": [
        "sales.sort()\n",
        "ad_spend.sort()\n",
        "def median(x):\n",
        "  l=len(x)\n",
        "  if l%2!=0:\n",
        "    mid = l//2\n",
        "\n",
        "  else:\n",
        "    mid= l//2\n",
        "    median = (x[mid-1] + x[mid])/2\n",
        "\n",
        "  return median\n",
        "print(f\"median of sales=\",median(sales))\n",
        "print(f\"median of spend=\",median(ad_spend))"
      ],
      "metadata": {
        "colab": {
          "base_uri": "https://localhost:8080/"
        },
        "id": "piLkZY-zQ2hi",
        "outputId": "d6fcc14e-34bf-4e36-d174-78770fd137b2"
      },
      "execution_count": null,
      "outputs": [
        {
          "output_type": "stream",
          "name": "stdout",
          "text": [
            "median of sales= 245.0\n",
            "median of spend= 59.0\n"
          ]
        }
      ]
    },
    {
      "cell_type": "code",
      "source": [
        "def variance(x):\n",
        "  m = 0\n",
        "  for i in x:\n",
        "    m+= i\n",
        "  mean = m / len(x)\n",
        "  v=0\n",
        "  for i in x:\n",
        "    v+=((i-mean)**2)\n",
        "    variance=v/len(score)\n",
        "    s_d=variance**(1/2)\n",
        "  return variance,s_d\n",
        "print(f\"variance and standard deviation of sales are\", variance(sales))\n",
        "print(f\"variance and standard deviation of sales are\", variance(ad_spend))"
      ],
      "metadata": {
        "colab": {
          "base_uri": "https://localhost:8080/"
        },
        "id": "btI-4baaR4RX",
        "outputId": "8d68b335-fa74-4873-feb7-1579f1e60c86"
      },
      "execution_count": null,
      "outputs": [
        {
          "output_type": "stream",
          "name": "stdout",
          "text": [
            "variance and standard deviation of sales are (8349.0, 91.37286249209882)\n",
            "variance and standard deviation of sales are (497.03999999999996, 22.294393914165955)\n"
          ]
        }
      ]
    },
    {
      "cell_type": "code",
      "source": [
        "cov=0\n",
        "cov2=0\n",
        "for i in sales:\n",
        "  cov+=(i-mean(sales))\n",
        "for j in ad_spend:\n",
        "  cov2+=(j-mean(ad_spend))\n",
        "covariance=cov*cov2/10\n",
        "print(\"covariance=\",covariance)\n",
        "print(cov)\n",
        "print(cov2)"
      ],
      "metadata": {
        "colab": {
          "base_uri": "https://localhost:8080/"
        },
        "id": "i9A2gcRbS5Ke",
        "outputId": "430e7aba-3c63-4b3a-ef53-e23c1d1fcf7b"
      },
      "execution_count": null,
      "outputs": [
        {
          "output_type": "stream",
          "name": "stdout",
          "text": [
            "covariance= -0.0\n",
            "0\n",
            "-5.684341886080802e-14\n"
          ]
        }
      ]
    },
    {
      "cell_type": "code",
      "source": [
        "correlation=covariance/(variance(sales)[1]*variance(ad_spend)[1])\n",
        "print(correlation)"
      ],
      "metadata": {
        "colab": {
          "base_uri": "https://localhost:8080/"
        },
        "id": "S4lpxgXCVT9P",
        "outputId": "52979f95-ae88-4ee9-b484-73e4acb9ec2b"
      },
      "execution_count": null,
      "outputs": [
        {
          "output_type": "stream",
          "name": "stdout",
          "text": [
            "-0.0\n"
          ]
        }
      ]
    }
  ]
}